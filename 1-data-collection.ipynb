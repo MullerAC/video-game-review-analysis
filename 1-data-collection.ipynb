{
 "cells": [
  {
   "cell_type": "code",
   "execution_count": 2,
   "metadata": {},
   "outputs": [],
   "source": [
    "import pandas as pd\n",
    "import requests"
   ]
  },
  {
   "cell_type": "code",
   "execution_count": 21,
   "metadata": {},
   "outputs": [],
   "source": [
    "def get_reviews(appid, params):\n",
    "        url_start = 'https://store.steampowered.com/appreviews/'\n",
    "        response = requests.get(url=url_start+appid, params=params, headers={'User-Agent': 'Mozilla/5.0'})\n",
    "        return response.json() # return data extracted from the json response"
   ]
  },
  {
   "cell_type": "code",
   "execution_count": 63,
   "metadata": {},
   "outputs": [],
   "source": [
    "def get_n_reviews(appid, n=100):\n",
    "    reviews = []\n",
    "    cursor = '*'\n",
    "    params = { # https://partner.steamgames.com/doc/store/getreviews\n",
    "            'json' : 1,\n",
    "            'filter' : 'all', # sort by: recent, updated, all (helpfullness)\n",
    "            'language' : 'english', # https://partner.steamgames.com/doc/store/localization\n",
    "            'day_range' : 9223372036854775807, # shows reveiws from all time\n",
    "            'review_type' : 'all', # all, positive, negative\n",
    "            'purchase_type' : 'all', # all, non_steam_purchase, steam\n",
    "        }\n",
    "    while n > 0:\n",
    "        params['cursor'] = cursor.encode() # for pagination\n",
    "        params['num_per_page'] = min(100, n) # 100 is the max possible reviews in one requests\n",
    "        n -= 100\n",
    "        \n",
    "        response = get_reviews(appid, params)\n",
    "        cursor = response['cursor']\n",
    "        reviews += response['reviews']\n",
    "        \n",
    "        if len(response['reviews']) < 100: break\n",
    "    \n",
    "    return reviews"
   ]
  },
  {
   "cell_type": "code",
   "execution_count": 68,
   "metadata": {},
   "outputs": [
    {
     "data": {
      "text/plain": [
       "{'recommendationid': '81938368',\n",
       " 'author': {'steamid': '76561198036857181',\n",
       "  'num_games_owned': 1102,\n",
       "  'num_reviews': 27,\n",
       "  'playtime_forever': 2581,\n",
       "  'playtime_last_two_weeks': 495,\n",
       "  'playtime_at_review': 207,\n",
       "  'last_played': 1613719739},\n",
       " 'language': 'english',\n",
       " 'review': '[h1]DOWNLOAD THE NVIDIA GAME READY DRIVERS FOR THE LOVE OF GOD[/h1]\\nI crashed like twice but didn\\'t have a problem after I got the new game ready drivers. I\\'m literally making this review as a reminder. Had a blast so far but jesus guys, update your nvidia drivers.\\n\\nULTRA EDIT:\\n[h1]A Flawed but Fun Experience[/h1]\\n\\nI might as well actually review this game in its current state considering the attention this got, while I have not finished it I feel I have experienced enough of the core mechanics to formulate an accurate opinion at least on the gameplay. \\n\\nIt is a Witcher 3 reskin with a cyberpunk setting, considering that Witcher 3 was amazing (and I still have yet to get through it entirely) it does translate. Narratively this game excels, the dialogue is well written and acted and the characters are hard to not fall in love with. Walking around the world is exhilarating although unengaging, it is lacking interactivity. That being said the gameplay itself is a lot of fun. The guns pack a huge punch, very satisfying to use. The melee with katanas specifically is fun but broken, I did a body and reflex melee build and was able to behead TONS of foes before they even had time to react. The game is unfortunately plagued with bugs, less severe bugs especially after the recent hotfix but there are a myriad of small immersion raping bugs that pop up here and there Bethesda style. \\n\\nUltimately I invest in player agency/good writing and fun gameplay at the end of the day, the graphics are important but less so. The decision-making of Witcher is here and that\\'s really what I like the most HOWEVER this game was clearly not ready and considering recent events with the dev I will be hard pressed to trust them again. This is an incredibly bad launch. \\n\\nAll of that being said, if you\\'re the type that is a fan of Deus Ex, Dishonored, or Fallout: New Vegas you will love this game warts and all just for the godlike quest design those and this game offer. Plenty of skill check dialogue to be found. Suffice to say that I have had a good amount of \"That actually worked?!?\" moments so far which is a really hard feeling to nail down with games like this, you usually only get that out of CRPGs like Age of Decadence or Divinity, etc. At the same time I do not judge anyone that refunds this game or waits for a more stable version to come out because CD PROJEKT RED really dropped the ball and should not have released the game in this state. \\n\\nIn conclusion, this game is mostly what I expected it to be and it is a shame that people expected this game to be the second coming of Jesus. I was banking on the decision making and quest design and this game delivers on those fronts. Everything else though, it does fail here and there but, in my opinion, not enough to make the game genuinely bad. If I had to give it a score out of ten it would be a solid 8/10. Hopefully CD PROJEKT RED can iron out all of these problems in a timely manner and elevate its standing.\\n\\nAlso driving anything is just plain awful, it depends on what you\\'re driving but in my opinion it should just be the same for whatever you\\'re driving but I\\'m just talking out of my ass at this point.',\n",
       " 'timestamp_created': 1607576859,\n",
       " 'timestamp_updated': 1608454612,\n",
       " 'voted_up': True,\n",
       " 'votes_up': 19271,\n",
       " 'votes_funny': 1192,\n",
       " 'weighted_vote_score': '0.941198229789733887',\n",
       " 'comment_count': 0,\n",
       " 'steam_purchase': True,\n",
       " 'received_for_free': False,\n",
       " 'written_during_early_access': False}"
      ]
     },
     "execution_count": 68,
     "metadata": {},
     "output_type": "execute_result"
    }
   ],
   "source": [
    "reviews[0]"
   ]
  },
  {
   "cell_type": "code",
   "execution_count": 65,
   "metadata": {},
   "outputs": [
    {
     "data": {
      "text/html": [
       "<div>\n",
       "<style scoped>\n",
       "    .dataframe tbody tr th:only-of-type {\n",
       "        vertical-align: middle;\n",
       "    }\n",
       "\n",
       "    .dataframe tbody tr th {\n",
       "        vertical-align: top;\n",
       "    }\n",
       "\n",
       "    .dataframe thead th {\n",
       "        text-align: right;\n",
       "    }\n",
       "</style>\n",
       "<table border=\"1\" class=\"dataframe\">\n",
       "  <thead>\n",
       "    <tr style=\"text-align: right;\">\n",
       "      <th></th>\n",
       "      <th>review</th>\n",
       "      <th>voted_up</th>\n",
       "    </tr>\n",
       "  </thead>\n",
       "  <tbody>\n",
       "    <tr>\n",
       "      <th>0</th>\n",
       "      <td>[h1]DOWNLOAD THE NVIDIA GAME READY DRIVERS FOR...</td>\n",
       "      <td>True</td>\n",
       "    </tr>\n",
       "    <tr>\n",
       "      <th>1</th>\n",
       "      <td>Although its buggy and feels poorly optimized,...</td>\n",
       "      <td>True</td>\n",
       "    </tr>\n",
       "    <tr>\n",
       "      <th>2</th>\n",
       "      <td>if you have an RTX card turn on DLSS. helps ou...</td>\n",
       "      <td>True</td>\n",
       "    </tr>\n",
       "    <tr>\n",
       "      <th>3</th>\n",
       "      <td>I love this game but games needs to be optimiz...</td>\n",
       "      <td>True</td>\n",
       "    </tr>\n",
       "    <tr>\n",
       "      <th>4</th>\n",
       "      <td>[h1]Just remember:[/h1]\\n[olist]\\n[*][b]Angel ...</td>\n",
       "      <td>True</td>\n",
       "    </tr>\n",
       "    <tr>\n",
       "      <th>...</th>\n",
       "      <td>...</td>\n",
       "      <td>...</td>\n",
       "    </tr>\n",
       "    <tr>\n",
       "      <th>998</th>\n",
       "      <td>By far the number 1 game I have played in a lo...</td>\n",
       "      <td>True</td>\n",
       "    </tr>\n",
       "    <tr>\n",
       "      <th>999</th>\n",
       "      <td>yeah had s3x with a dude loved it,.</td>\n",
       "      <td>True</td>\n",
       "    </tr>\n",
       "    <tr>\n",
       "      <th>1000</th>\n",
       "      <td>Quite a difficult arcade game, not for reactio...</td>\n",
       "      <td>True</td>\n",
       "    </tr>\n",
       "    <tr>\n",
       "      <th>1001</th>\n",
       "      <td>A mixture of puzzle, runner and physical sandb...</td>\n",
       "      <td>True</td>\n",
       "    </tr>\n",
       "    <tr>\n",
       "      <th>1002</th>\n",
       "      <td>An entertaining sandbox runner where you need ...</td>\n",
       "      <td>True</td>\n",
       "    </tr>\n",
       "  </tbody>\n",
       "</table>\n",
       "<p>1003 rows × 2 columns</p>\n",
       "</div>"
      ],
      "text/plain": [
       "                                                 review  voted_up\n",
       "0     [h1]DOWNLOAD THE NVIDIA GAME READY DRIVERS FOR...      True\n",
       "1     Although its buggy and feels poorly optimized,...      True\n",
       "2     if you have an RTX card turn on DLSS. helps ou...      True\n",
       "3     I love this game but games needs to be optimiz...      True\n",
       "4     [h1]Just remember:[/h1]\\n[olist]\\n[*][b]Angel ...      True\n",
       "...                                                 ...       ...\n",
       "998   By far the number 1 game I have played in a lo...      True\n",
       "999                 yeah had s3x with a dude loved it,.      True\n",
       "1000  Quite a difficult arcade game, not for reactio...      True\n",
       "1001  A mixture of puzzle, runner and physical sandb...      True\n",
       "1002  An entertaining sandbox runner where you need ...      True\n",
       "\n",
       "[1003 rows x 2 columns]"
      ]
     },
     "execution_count": 65,
     "metadata": {},
     "output_type": "execute_result"
    }
   ],
   "source": [
    "reviews = []\n",
    "appids = ['1091500', '1545280'] # Cyberpunk 2077, good mix of positive and negative, just for samples\n",
    "for appid in appids:\n",
    "    reviews += get_n_reviews(appid, 1000)\n",
    "df = pd.DataFrame(reviews)[['review', 'voted_up']]\n",
    "df"
   ]
  },
  {
   "cell_type": "code",
   "execution_count": null,
   "metadata": {},
   "outputs": [],
   "source": [
    "df.to_csv('data\\reviews.csv', index=False)"
   ]
  }
 ],
 "metadata": {
  "kernelspec": {
   "display_name": "learn-env",
   "language": "python",
   "name": "learn-env"
  },
  "language_info": {
   "codemirror_mode": {
    "name": "ipython",
    "version": 3
   },
   "file_extension": ".py",
   "mimetype": "text/x-python",
   "name": "python",
   "nbconvert_exporter": "python",
   "pygments_lexer": "ipython3",
   "version": "3.6.9"
  }
 },
 "nbformat": 4,
 "nbformat_minor": 4
}
