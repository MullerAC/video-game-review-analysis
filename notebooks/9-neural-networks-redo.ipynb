{
 "cells": [
  {
   "cell_type": "markdown",
   "metadata": {},
   "source": [
    "# Neural Networks"
   ]
  },
  {
   "cell_type": "code",
   "execution_count": 1,
   "metadata": {},
   "outputs": [],
   "source": [
    "import pandas as pd"
   ]
  },
  {
   "cell_type": "code",
   "execution_count": 2,
   "metadata": {},
   "outputs": [],
   "source": [
    "y_train = pd.read_feather('../data/processed/y_train.feather')['voted_up'].to_numpy()\n",
    "X_train = pd.read_feather('../data/processed/X_train_preprocessed.feather').to_numpy()"
   ]
  },
  {
   "cell_type": "code",
   "execution_count": 3,
   "metadata": {},
   "outputs": [],
   "source": [
    "y_test = pd.read_feather('../data/processed/y_test.feather')['voted_up'].to_numpy()\n",
    "X_test = pd.read_feather('../data/processed/X_test_preprocessed.feather').to_numpy()"
   ]
  },
  {
   "cell_type": "markdown",
   "metadata": {},
   "source": [
    "## Baseline Neural Network"
   ]
  },
  {
   "cell_type": "code",
   "execution_count": 32,
   "metadata": {},
   "outputs": [],
   "source": [
    "from sklearn.metrics import accuracy_score, precision_score, recall_score\n",
    "from tensorflow.keras.layers import Dense, Dropout, Embedding, GlobalMaxPool1D, LSTM\n",
    "from tensorflow.keras import Sequential"
   ]
  },
  {
   "cell_type": "code",
   "execution_count": 33,
   "metadata": {},
   "outputs": [],
   "source": [
    "from keras.preprocessing import text, sequence"
   ]
  },
  {
   "cell_type": "code",
   "execution_count": 34,
   "metadata": {},
   "outputs": [],
   "source": [
    "tokenizer = text.Tokenizer(num_words=20000)\n",
    "tokenizer.fit_on_texts(X_train.flatten().tolist())\n",
    "tokenized_list_train = tokenizer.texts_to_sequences(X_train.flatten().tolist())\n",
    "tokenized_list_test = tokenizer.texts_to_sequences(X_test.flatten().tolist())\n",
    "X_train_tokenized = sequence.pad_sequences(tokenized_list_train, maxlen=256)\n",
    "X_test_tokenized = sequence.pad_sequences(tokenized_list_test, maxlen=256)"
   ]
  },
  {
   "cell_type": "code",
   "execution_count": 36,
   "metadata": {},
   "outputs": [],
   "source": [
    "model = Sequential()\n",
    "\n",
    "# hidden layers\n",
    "model.add(Embedding(20000, 512))\n",
    "model.add(LSTM(50, return_sequences=True))\n",
    "#model.add(GlobalMaxPool1D())\n",
    "model.add(Dropout(0.5))\n",
    "model.add(Dense(100, activation='relu'))\n",
    "model.add(Dropout(0.5))\n",
    "\n",
    "# output layer\n",
    "model.add(Dense(1, activation='sigmoid'))\n",
    "\n",
    "model.compile(loss='binary_crossentropy', optimizer='adam', metrics=['accuracy'])"
   ]
  },
  {
   "cell_type": "code",
   "execution_count": 38,
   "metadata": {},
   "outputs": [
    {
     "name": "stdout",
     "output_type": "stream",
     "text": [
      "Epoch 1/5\n",
      "914/914 [==============================] - 540s 591ms/step - loss: 0.4567 - accuracy: 0.8223 - val_loss: 0.4373 - val_accuracy: 0.8300\n",
      "Epoch 2/5\n",
      "914/914 [==============================] - 533s 583ms/step - loss: 0.4237 - accuracy: 0.8391 - val_loss: 0.4344 - val_accuracy: 0.8296\n",
      "Epoch 3/5\n",
      "914/914 [==============================] - 533s 583ms/step - loss: 0.4071 - accuracy: 0.8469 - val_loss: 0.4413 - val_accuracy: 0.8324\n",
      "Epoch 4/5\n",
      "914/914 [==============================] - 528s 578ms/step - loss: 0.4042 - accuracy: 0.8478 - val_loss: 0.4565 - val_accuracy: 0.8316\n",
      "Epoch 5/5\n",
      "914/914 [==============================] - 533s 584ms/step - loss: 0.4005 - accuracy: 0.8489 - val_loss: 0.4504 - val_accuracy: 0.8305\n",
      "457/457 [==============================] - 35s 77ms/step - loss: 0.4504 - accuracy: 0.8305\n"
     ]
    },
    {
     "data": {
      "text/plain": [
       "[0.4504031538963318, 0.8305438160896301]"
      ]
     },
     "execution_count": 38,
     "metadata": {},
     "output_type": "execute_result"
    }
   ],
   "source": [
    "model.fit(X_train_tokenized, y_train, epochs=5, batch_size=64, validation_data=(X_test_tokenized, y_test))\n",
    "model.evaluate(X_test_tokenized, y_test)"
   ]
  },
  {
   "cell_type": "markdown",
   "metadata": {},
   "source": [
    "## Hyperparameter Tuning"
   ]
  },
  {
   "cell_type": "code",
   "execution_count": null,
   "metadata": {},
   "outputs": [],
   "source": [
    "from talos import Scan"
   ]
  },
  {
   "cell_type": "code",
   "execution_count": null,
   "metadata": {},
   "outputs": [],
   "source": [
    "def dense_network(x_train, y_train, x_val, y_val, params):\n",
    "    model = Sequential()\n",
    "\n",
    "    # hidden layers\n",
    "    model.add(Dense(params['dense'], input_dim=8000, activation=params['activation1']))\n",
    "    model.add(Dropout(params['dropout']))\n",
    "    model.add(Dense(params['dense']*2, activation=params['activation1']))\n",
    "    model.add(Dropout(params['dropout']))\n",
    "    model.add(Dense(params['dense']*0.5, activation=params['activation1']))\n",
    "    model.add(Dropout(params['dropout']))\n",
    "    model.add(Dense(params['dense']*0.75, activation=params['activation1']))\n",
    "    # output layer\n",
    "    model.add(Dense(1, activation=params['activation2']))\n",
    "\n",
    "    model.compile(loss='binary_crossentropy', optimizer='adam', metrics=['accuracy'])\n",
    "    \n",
    "    out = model.fit(x_train, y_train,\n",
    "                    validation_data=(x_val, y_val),\n",
    "                    epochs=5,\n",
    "                    verbose=0)\n",
    "\n",
    "    return out, model"
   ]
  },
  {
   "cell_type": "code",
   "execution_count": null,
   "metadata": {},
   "outputs": [],
   "source": [
    "params = {'dropout': [0.25, 0.5, 0.75], \n",
    "          'dense': [10, 50, 100, 500], \n",
    "          'activation1': ['relu', 'elu'], \n",
    "          'activation2': ['sigmoid', 'tanh']}"
   ]
  },
  {
   "cell_type": "code",
   "execution_count": null,
   "metadata": {},
   "outputs": [],
   "source": [
    "results = Scan(X_train, y_train, params=params, model=dense_network, experiment_name='grid')\n",
    "results.best_model(metric='accuracy')"
   ]
  },
  {
   "cell_type": "code",
   "execution_count": null,
   "metadata": {
    "scrolled": true
   },
   "outputs": [],
   "source": [
    "pd.read_csv('grid/022421165029.csv').sort_values('val_accuracy', ascending=False)"
   ]
  },
  {
   "cell_type": "markdown",
   "metadata": {},
   "source": [
    "## Final Model"
   ]
  },
  {
   "cell_type": "code",
   "execution_count": null,
   "metadata": {},
   "outputs": [],
   "source": [
    "model = Sequential()\n",
    "\n",
    "# hidden layers\n",
    "model.add(Dense(500, input_dim=8000, activation='relu'))\n",
    "model.add(Dropout(0.5))\n",
    "model.add(Dense(250, activation='relu'))\n",
    "model.add(Dropout(0.5))\n",
    "model.add(Dense(125, activation='relu'))\n",
    "model.add(Dropout(0.5))\n",
    "model.add(Dense(250, activation='relu'))\n",
    "\n",
    "# output layer\n",
    "model.add(Dense(1, activation='sigmoid'))\n",
    "\n",
    "model.compile(loss='binary_crossentropy', optimizer='adam', metrics=['accuracy'])"
   ]
  },
  {
   "cell_type": "code",
   "execution_count": null,
   "metadata": {},
   "outputs": [],
   "source": [
    "model.fit(X_train, y_train, epochs=10, batch_size=32, validation_split=0.1)"
   ]
  },
  {
   "cell_type": "code",
   "execution_count": null,
   "metadata": {},
   "outputs": [],
   "source": [
    "model.evaluate(X_test, y_test)"
   ]
  },
  {
   "cell_type": "code",
   "execution_count": null,
   "metadata": {},
   "outputs": [],
   "source": [
    "model.save('../final_model/model.h5')\n",
    "model.save_weights('../final_model/model_weights.h5')"
   ]
  },
  {
   "cell_type": "code",
   "execution_count": null,
   "metadata": {},
   "outputs": [],
   "source": []
  }
 ],
 "metadata": {
  "kernelspec": {
   "display_name": "capstone",
   "language": "python",
   "name": "capstone"
  },
  "language_info": {
   "codemirror_mode": {
    "name": "ipython",
    "version": 3
   },
   "file_extension": ".py",
   "mimetype": "text/x-python",
   "name": "python",
   "nbconvert_exporter": "python",
   "pygments_lexer": "ipython3",
   "version": "3.7.9"
  }
 },
 "nbformat": 4,
 "nbformat_minor": 4
}
