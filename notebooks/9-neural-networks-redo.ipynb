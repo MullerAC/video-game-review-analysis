{
 "cells": [
  {
   "cell_type": "markdown",
   "metadata": {},
   "source": [
    "# Neural Networks"
   ]
  },
  {
   "cell_type": "markdown",
   "metadata": {},
   "source": [
    "This neural network is an attempt to create a model without using scikit-learn. This was intended to lower the slug size of my heroku upload, but it still wasn't small enough. The resulting model is much larger than the earlier model with only dense layers. The network also does not perform as well as the earlier model. I would like to come back to this later and perform a wider gridsearch and different layers, as I believe an RNN such as this has the potential to ouytperform the more basic model I created earlier."
   ]
  },
  {
   "cell_type": "code",
   "execution_count": 1,
   "metadata": {},
   "outputs": [],
   "source": [
    "import pandas as pd"
   ]
  },
  {
   "cell_type": "code",
   "execution_count": 2,
   "metadata": {},
   "outputs": [],
   "source": [
    "y_train = pd.read_feather('../data/processed/y_train.feather')['voted_up'].to_numpy()\n",
    "X_train = pd.read_feather('../data/processed/X_train_preprocessed.feather').to_numpy()"
   ]
  },
  {
   "cell_type": "code",
   "execution_count": 3,
   "metadata": {},
   "outputs": [],
   "source": [
    "y_test = pd.read_feather('../data/processed/y_test.feather')['voted_up'].to_numpy()\n",
    "X_test = pd.read_feather('../data/processed/X_test_preprocessed.feather').to_numpy()"
   ]
  },
  {
   "cell_type": "markdown",
   "metadata": {},
   "source": [
    "## Baseline Neural Network"
   ]
  },
  {
   "cell_type": "code",
   "execution_count": 4,
   "metadata": {},
   "outputs": [],
   "source": [
    "from sklearn.metrics import accuracy_score, precision_score, recall_score\n",
    "from tensorflow.keras.layers import Dense, Dropout, Embedding, GlobalMaxPool1D, LSTM\n",
    "from tensorflow.keras import Sequential"
   ]
  },
  {
   "cell_type": "code",
   "execution_count": 5,
   "metadata": {},
   "outputs": [],
   "source": [
    "from keras.preprocessing import text, sequence"
   ]
  },
  {
   "cell_type": "code",
   "execution_count": 6,
   "metadata": {},
   "outputs": [],
   "source": [
    "tokenizer = text.Tokenizer(num_words=20000)\n",
    "tokenizer.fit_on_texts(X_train.flatten().tolist())\n",
    "tokenized_list_train = tokenizer.texts_to_sequences(X_train.flatten().tolist())\n",
    "tokenized_list_test = tokenizer.texts_to_sequences(X_test.flatten().tolist())\n",
    "X_train_tokenized = sequence.pad_sequences(tokenized_list_train, maxlen=256)\n",
    "X_test_tokenized = sequence.pad_sequences(tokenized_list_test, maxlen=256)"
   ]
  },
  {
   "cell_type": "code",
   "execution_count": 7,
   "metadata": {},
   "outputs": [],
   "source": [
    "model = Sequential()\n",
    "\n",
    "# hidden layers\n",
    "model.add(Embedding(20000, 512))\n",
    "model.add(LSTM(50, return_sequences=True))\n",
    "model.add(GlobalMaxPool1D())\n",
    "model.add(Dropout(0.5))\n",
    "model.add(Dense(100, activation='relu'))\n",
    "model.add(Dropout(0.5))\n",
    "\n",
    "# output layer\n",
    "model.add(Dense(1, activation='sigmoid'))\n",
    "\n",
    "model.compile(loss='binary_crossentropy', optimizer='adam', metrics=['accuracy'])"
   ]
  },
  {
   "cell_type": "code",
   "execution_count": 8,
   "metadata": {},
   "outputs": [
    {
     "name": "stdout",
     "output_type": "stream",
     "text": [
      "Epoch 1/3\n",
      "914/914 [==============================] - 489s 532ms/step - loss: 0.4164 - accuracy: 0.8320 - val_loss: 0.2504 - val_accuracy: 0.8979\n",
      "Epoch 2/3\n",
      "914/914 [==============================] - 484s 529ms/step - loss: 0.2091 - accuracy: 0.9180 - val_loss: 0.2354 - val_accuracy: 0.9023\n",
      "Epoch 3/3\n",
      "914/914 [==============================] - 483s 529ms/step - loss: 0.1421 - accuracy: 0.9476 - val_loss: 0.2578 - val_accuracy: 0.9014\n",
      "457/457 [==============================] - 33s 73ms/step - loss: 0.2578 - accuracy: 0.9014\n"
     ]
    },
    {
     "data": {
      "text/plain": [
       "[0.25776994228363037, 0.9013679623603821]"
      ]
     },
     "execution_count": 8,
     "metadata": {},
     "output_type": "execute_result"
    }
   ],
   "source": [
    "model.fit(X_train_tokenized, y_train, epochs=3, batch_size=64, validation_data=(X_test_tokenized, y_test))\n",
    "model.evaluate(X_test_tokenized, y_test)"
   ]
  },
  {
   "cell_type": "markdown",
   "metadata": {},
   "source": [
    "0.9013679623603821"
   ]
  },
  {
   "cell_type": "markdown",
   "metadata": {},
   "source": [
    "## Hyperparameter Tuning"
   ]
  },
  {
   "cell_type": "code",
   "execution_count": 9,
   "metadata": {},
   "outputs": [],
   "source": [
    "from talos import Scan"
   ]
  },
  {
   "cell_type": "code",
   "execution_count": 16,
   "metadata": {},
   "outputs": [],
   "source": [
    "def dense_network(x_train, y_train, x_val, y_val, params):\n",
    "    model = Sequential()\n",
    "\n",
    "    # hidden layers\n",
    "    model.add(Embedding(20000, 512))\n",
    "    model.add(LSTM(params['lstm'], return_sequences=True))\n",
    "    model.add(GlobalMaxPool1D())\n",
    "    model.add(Dropout(params['dropout']))\n",
    "    model.add(Dense(params['dense'], activation='relu'))\n",
    "    model.add(Dropout(params['dropout']))\n",
    "    # output layer\n",
    "    model.add(Dense(1, activation='sigmoid'))\n",
    "\n",
    "    model.compile(loss='binary_crossentropy', optimizer='adam', metrics=['accuracy'])\n",
    "    \n",
    "    out = model.fit(x_train, y_train,\n",
    "                    validation_data=(x_val, y_val),\n",
    "                    epochs=5,\n",
    "                    verbose=1)\n",
    "\n",
    "    return out, model"
   ]
  },
  {
   "cell_type": "code",
   "execution_count": 11,
   "metadata": {},
   "outputs": [],
   "source": [
    "params = {'dropout': [0.25, 0.5, 0.75], \n",
    "          'dense': [10, 50, 100], \n",
    "          'lstm': [10, 50, 100]}"
   ]
  },
  {
   "cell_type": "code",
   "execution_count": 17,
   "metadata": {
    "scrolled": true
   },
   "outputs": [
    {
     "name": "stderr",
     "output_type": "stream",
     "text": [
      "\n",
      "\n",
      "  0%|          | 0/27 [00:00<?, ?it/s]\u001b[A\u001b[A"
     ]
    },
    {
     "name": "stdout",
     "output_type": "stream",
     "text": [
      "Epoch 1/5\n",
      "1280/1280 [==============================] - 356s 277ms/step - loss: 0.4126 - accuracy: 0.8289 - val_loss: 0.2686 - val_accuracy: 0.8888\n",
      "Epoch 2/5\n",
      "1280/1280 [==============================] - 352s 275ms/step - loss: 0.2342 - accuracy: 0.9095 - val_loss: 0.2596 - val_accuracy: 0.8949\n",
      "Epoch 3/5\n",
      "1280/1280 [==============================] - 349s 273ms/step - loss: 0.1673 - accuracy: 0.9392 - val_loss: 0.2783 - val_accuracy: 0.8952\n",
      "Epoch 4/5\n",
      "1280/1280 [==============================] - 346s 271ms/step - loss: 0.1279 - accuracy: 0.9565 - val_loss: 0.3235 - val_accuracy: 0.8935\n",
      "Epoch 5/5\n",
      "1280/1280 [==============================] - 346s 270ms/step - loss: 0.0998 - accuracy: 0.9678 - val_loss: 0.3490 - val_accuracy: 0.8922\n"
     ]
    },
    {
     "name": "stderr",
     "output_type": "stream",
     "text": [
      "  0%|          | 0/27 [42:26<?, ?it/s]\n",
      "\n",
      "\n",
      "  4%|▎         | 1/27 [29:10<12:38:24, 1750.18s/it]\u001b[A\u001b[A"
     ]
    },
    {
     "name": "stdout",
     "output_type": "stream",
     "text": [
      "Epoch 1/5\n",
      "1280/1280 [==============================] - 494s 385ms/step - loss: 0.4615 - accuracy: 0.8170 - val_loss: 0.2636 - val_accuracy: 0.8910\n",
      "Epoch 2/5\n",
      "1280/1280 [==============================] - 488s 381ms/step - loss: 0.2457 - accuracy: 0.9127 - val_loss: 0.2530 - val_accuracy: 0.8959\n",
      "Epoch 3/5\n",
      "1280/1280 [==============================] - 493s 385ms/step - loss: 0.1694 - accuracy: 0.9452 - val_loss: 0.2623 - val_accuracy: 0.8935\n",
      "Epoch 4/5\n",
      "1280/1280 [==============================] - 491s 384ms/step - loss: 0.1140 - accuracy: 0.9629 - val_loss: 0.3127 - val_accuracy: 0.8927\n",
      "Epoch 5/5\n",
      "1280/1280 [==============================] - 489s 382ms/step - loss: 0.0834 - accuracy: 0.9755 - val_loss: 0.3921 - val_accuracy: 0.8925\n"
     ]
    },
    {
     "name": "stderr",
     "output_type": "stream",
     "text": [
      "\n",
      "\n",
      "  7%|▋         | 2/27 [1:10:06<15:02:18, 2165.54s/it]\u001b[A\u001b[A"
     ]
    },
    {
     "name": "stdout",
     "output_type": "stream",
     "text": [
      "Epoch 1/5\n",
      "1280/1280 [==============================] - 750s 584ms/step - loss: 0.4199 - accuracy: 0.8285 - val_loss: 0.2645 - val_accuracy: 0.8929\n",
      "Epoch 2/5\n",
      "1280/1280 [==============================] - 750s 586ms/step - loss: 0.2173 - accuracy: 0.9185 - val_loss: 0.2506 - val_accuracy: 0.8988\n",
      "Epoch 3/5\n",
      "1280/1280 [==============================] - 748s 584ms/step - loss: 0.1467 - accuracy: 0.9496 - val_loss: 0.2631 - val_accuracy: 0.8975\n",
      "Epoch 4/5\n",
      "1280/1280 [==============================] - 752s 588ms/step - loss: 0.0901 - accuracy: 0.9712 - val_loss: 0.3724 - val_accuracy: 0.8951\n",
      "Epoch 5/5\n",
      "1280/1280 [==============================] - 746s 583ms/step - loss: 0.0611 - accuracy: 0.9817 - val_loss: 0.4015 - val_accuracy: 0.8934\n"
     ]
    },
    {
     "name": "stderr",
     "output_type": "stream",
     "text": [
      "\n",
      "\n",
      " 11%|█         | 3/27 [2:12:32<19:14:57, 2887.38s/it]\u001b[A\u001b[A"
     ]
    },
    {
     "name": "stdout",
     "output_type": "stream",
     "text": [
      "Epoch 1/5\n",
      "1280/1280 [==============================] - 357s 277ms/step - loss: 0.5078 - accuracy: 0.7768 - val_loss: 0.2906 - val_accuracy: 0.8778\n",
      "Epoch 2/5\n",
      "1280/1280 [==============================] - 351s 274ms/step - loss: 0.3014 - accuracy: 0.8811 - val_loss: 0.2681 - val_accuracy: 0.8857\n",
      "Epoch 3/5\n",
      "1280/1280 [==============================] - 351s 274ms/step - loss: 0.2477 - accuracy: 0.9059 - val_loss: 0.2831 - val_accuracy: 0.8872\n",
      "Epoch 4/5\n",
      "1280/1280 [==============================] - 355s 277ms/step - loss: 0.2139 - accuracy: 0.9218 - val_loss: 0.2949 - val_accuracy: 0.8867\n",
      "Epoch 5/5\n",
      "1280/1280 [==============================] - 348s 272ms/step - loss: 0.1852 - accuracy: 0.9343 - val_loss: 0.3033 - val_accuracy: 0.8861\n"
     ]
    },
    {
     "name": "stderr",
     "output_type": "stream",
     "text": [
      "\n",
      "\n",
      " 15%|█▍        | 4/27 [2:41:55<15:36:34, 2443.24s/it]\u001b[A\u001b[A"
     ]
    },
    {
     "name": "stdout",
     "output_type": "stream",
     "text": [
      "Epoch 1/5\n",
      "1280/1280 [==============================] - 493s 384ms/step - loss: 0.4413 - accuracy: 0.8197 - val_loss: 0.2863 - val_accuracy: 0.8731\n",
      "Epoch 2/5\n",
      "1280/1280 [==============================] - 492s 385ms/step - loss: 0.2757 - accuracy: 0.8900 - val_loss: 0.2806 - val_accuracy: 0.8811\n",
      "Epoch 3/5\n",
      "1280/1280 [==============================] - 490s 383ms/step - loss: 0.2109 - accuracy: 0.9218 - val_loss: 0.2789 - val_accuracy: 0.8866\n",
      "Epoch 4/5\n",
      "1280/1280 [==============================] - 492s 384ms/step - loss: 0.1621 - accuracy: 0.9430 - val_loss: 0.3327 - val_accuracy: 0.8862\n",
      "Epoch 5/5\n",
      "1280/1280 [==============================] - 492s 384ms/step - loss: 0.1257 - accuracy: 0.9561 - val_loss: 0.3859 - val_accuracy: 0.8824\n"
     ]
    },
    {
     "name": "stderr",
     "output_type": "stream",
     "text": [
      "\n",
      "\n",
      " 19%|█▊        | 5/27 [3:22:55<14:58:05, 2449.34s/it]\u001b[A\u001b[A"
     ]
    },
    {
     "name": "stdout",
     "output_type": "stream",
     "text": [
      "Epoch 1/5\n",
      "1280/1280 [==============================] - 751s 585ms/step - loss: 0.4439 - accuracy: 0.8194 - val_loss: 0.2821 - val_accuracy: 0.8896\n",
      "Epoch 2/5\n",
      "1280/1280 [==============================] - 749s 585ms/step - loss: 0.2652 - accuracy: 0.8963 - val_loss: 0.2569 - val_accuracy: 0.8960\n",
      "Epoch 3/5\n",
      "1280/1280 [==============================] - 745s 582ms/step - loss: 0.1964 - accuracy: 0.9257 - val_loss: 0.3071 - val_accuracy: 0.8846\n",
      "Epoch 4/5\n",
      "1280/1280 [==============================] - 759s 593ms/step - loss: 0.1529 - accuracy: 0.9447 - val_loss: 0.3034 - val_accuracy: 0.8903\n",
      "Epoch 5/5\n",
      "1280/1280 [==============================] - 769s 601ms/step - loss: 0.1216 - accuracy: 0.9580 - val_loss: 0.3366 - val_accuracy: 0.8905\n"
     ]
    },
    {
     "name": "stderr",
     "output_type": "stream",
     "text": [
      "\n",
      "\n",
      " 22%|██▏       | 6/27 [4:25:50<16:55:00, 2900.02s/it]\u001b[A\u001b[A"
     ]
    },
    {
     "name": "stdout",
     "output_type": "stream",
     "text": [
      "Epoch 1/5\n",
      "1280/1280 [==============================] - 360s 280ms/step - loss: 0.5651 - accuracy: 0.7717 - val_loss: 0.3740 - val_accuracy: 0.8121\n",
      "Epoch 2/5\n",
      "1280/1280 [==============================] - 366s 286ms/step - loss: 0.4256 - accuracy: 0.8290 - val_loss: 0.3198 - val_accuracy: 0.8654\n",
      "Epoch 3/5\n",
      "1280/1280 [==============================] - 362s 283ms/step - loss: 0.3774 - accuracy: 0.8528 - val_loss: 0.3098 - val_accuracy: 0.8792\n",
      "Epoch 4/5\n",
      "1280/1280 [==============================] - 350s 274ms/step - loss: 0.3582 - accuracy: 0.8585 - val_loss: 0.3052 - val_accuracy: 0.8747\n",
      "Epoch 5/5\n",
      "1280/1280 [==============================] - 354s 277ms/step - loss: 0.3408 - accuracy: 0.8677 - val_loss: 0.2926 - val_accuracy: 0.8809\n"
     ]
    },
    {
     "name": "stderr",
     "output_type": "stream",
     "text": [
      "\n",
      "\n",
      " 26%|██▌       | 7/27 [4:55:43<14:06:02, 2538.12s/it]\u001b[A\u001b[A"
     ]
    },
    {
     "name": "stdout",
     "output_type": "stream",
     "text": [
      "Epoch 1/5\n",
      "1280/1280 [==============================] - 495s 385ms/step - loss: 0.5233 - accuracy: 0.7926 - val_loss: 0.3222 - val_accuracy: 0.8399\n",
      "Epoch 2/5\n",
      "1280/1280 [==============================] - 492s 384ms/step - loss: 0.3598 - accuracy: 0.8463 - val_loss: 0.3020 - val_accuracy: 0.8512\n",
      "Epoch 3/5\n",
      "1280/1280 [==============================] - 492s 385ms/step - loss: 0.3150 - accuracy: 0.8713 - val_loss: 0.2967 - val_accuracy: 0.8739\n",
      "Epoch 4/5\n",
      "1280/1280 [==============================] - 488s 382ms/step - loss: 0.2902 - accuracy: 0.8816 - val_loss: 0.2692 - val_accuracy: 0.8857\n",
      "Epoch 5/5\n",
      "1280/1280 [==============================] - 491s 384ms/step - loss: 0.2651 - accuracy: 0.8910 - val_loss: 0.2954 - val_accuracy: 0.8817\n"
     ]
    },
    {
     "name": "stderr",
     "output_type": "stream",
     "text": [
      "\n",
      "\n",
      " 30%|██▉       | 8/27 [5:36:42<13:15:47, 2513.03s/it]\u001b[A\u001b[A"
     ]
    },
    {
     "name": "stdout",
     "output_type": "stream",
     "text": [
      "Epoch 1/5\n",
      "1280/1280 [==============================] - 746s 582ms/step - loss: 0.5005 - accuracy: 0.8064 - val_loss: 0.3195 - val_accuracy: 0.8563\n",
      "Epoch 2/5\n",
      "1280/1280 [==============================] - 746s 583ms/step - loss: 0.3554 - accuracy: 0.8367 - val_loss: 0.3039 - val_accuracy: 0.8630\n",
      "Epoch 3/5\n",
      "1280/1280 [==============================] - 745s 582ms/step - loss: 0.3207 - accuracy: 0.8445 - val_loss: 0.2919 - val_accuracy: 0.8868\n",
      "Epoch 4/5\n",
      "1280/1280 [==============================] - 742s 580ms/step - loss: 0.2956 - accuracy: 0.8509 - val_loss: 0.3181 - val_accuracy: 0.8754\n",
      "Epoch 5/5\n",
      "1280/1280 [==============================] - 745s 582ms/step - loss: 0.2713 - accuracy: 0.8540 - val_loss: 0.3146 - val_accuracy: 0.8876\n"
     ]
    },
    {
     "name": "stderr",
     "output_type": "stream",
     "text": [
      "\n",
      "\n",
      " 33%|███▎      | 9/27 [6:38:47<14:27:33, 2891.88s/it]\u001b[A\u001b[A"
     ]
    },
    {
     "name": "stdout",
     "output_type": "stream",
     "text": [
      "Epoch 1/5\n",
      "1280/1280 [==============================] - 355s 276ms/step - loss: 0.4210 - accuracy: 0.8278 - val_loss: 0.2696 - val_accuracy: 0.8903\n",
      "Epoch 2/5\n",
      "1280/1280 [==============================] - 349s 273ms/step - loss: 0.2261 - accuracy: 0.9126 - val_loss: 0.2652 - val_accuracy: 0.8955\n",
      "Epoch 3/5\n",
      "1280/1280 [==============================] - 346s 270ms/step - loss: 0.1531 - accuracy: 0.9425 - val_loss: 0.2794 - val_accuracy: 0.8910\n",
      "Epoch 4/5\n",
      "1280/1280 [==============================] - 345s 270ms/step - loss: 0.1185 - accuracy: 0.9569 - val_loss: 0.3084 - val_accuracy: 0.8924\n",
      "Epoch 5/5\n",
      "1280/1280 [==============================] - 345s 270ms/step - loss: 0.0918 - accuracy: 0.9690 - val_loss: 0.3304 - val_accuracy: 0.8931\n"
     ]
    },
    {
     "name": "stderr",
     "output_type": "stream",
     "text": [
      "\n",
      "\n",
      " 37%|███▋      | 10/27 [7:07:48<11:58:41, 2536.58s/it]\u001b[A\u001b[A"
     ]
    },
    {
     "name": "stdout",
     "output_type": "stream",
     "text": [
      "Epoch 1/5\n",
      "1280/1280 [==============================] - 492s 383ms/step - loss: 0.3991 - accuracy: 0.8350 - val_loss: 0.2515 - val_accuracy: 0.8952\n",
      "Epoch 2/5\n",
      "1280/1280 [==============================] - 490s 383ms/step - loss: 0.1946 - accuracy: 0.9232 - val_loss: 0.2548 - val_accuracy: 0.8997\n",
      "Epoch 3/5\n",
      "1280/1280 [==============================] - 490s 383ms/step - loss: 0.1205 - accuracy: 0.9559 - val_loss: 0.2896 - val_accuracy: 0.8902\n",
      "Epoch 4/5\n",
      "1280/1280 [==============================] - 489s 382ms/step - loss: 0.0801 - accuracy: 0.9722 - val_loss: 0.3723 - val_accuracy: 0.8935\n",
      "Epoch 5/5\n",
      "1280/1280 [==============================] - 491s 384ms/step - loss: 0.0530 - accuracy: 0.9821 - val_loss: 0.4528 - val_accuracy: 0.8949\n"
     ]
    },
    {
     "name": "stderr",
     "output_type": "stream",
     "text": [
      "\n",
      "\n",
      " 41%|████      | 11/27 [7:48:41<11:09:36, 2511.02s/it]\u001b[A\u001b[A"
     ]
    },
    {
     "name": "stdout",
     "output_type": "stream",
     "text": [
      "Epoch 1/5\n",
      "1280/1280 [==============================] - 759s 591ms/step - loss: 0.3699 - accuracy: 0.8512 - val_loss: 0.2518 - val_accuracy: 0.8989\n",
      "Epoch 2/5\n",
      "1280/1280 [==============================] - 747s 584ms/step - loss: 0.1880 - accuracy: 0.9276 - val_loss: 0.2606 - val_accuracy: 0.8985\n",
      "Epoch 3/5\n",
      "1280/1280 [==============================] - 746s 583ms/step - loss: 0.1148 - accuracy: 0.9568 - val_loss: 0.2677 - val_accuracy: 0.8959\n",
      "Epoch 4/5\n",
      "1280/1280 [==============================] - 748s 584ms/step - loss: 0.0689 - accuracy: 0.9762 - val_loss: 0.3816 - val_accuracy: 0.8921\n",
      "Epoch 5/5\n",
      "1280/1280 [==============================] - 747s 584ms/step - loss: 0.0511 - accuracy: 0.9826 - val_loss: 0.4642 - val_accuracy: 0.8914\n"
     ]
    },
    {
     "name": "stderr",
     "output_type": "stream",
     "text": [
      "\n",
      "\n",
      " 44%|████▍     | 12/27 [8:51:08<12:01:45, 2887.05s/it]\u001b[A\u001b[A"
     ]
    },
    {
     "name": "stdout",
     "output_type": "stream",
     "text": [
      "Epoch 1/5\n",
      "1280/1280 [==============================] - 350s 272ms/step - loss: 0.4319 - accuracy: 0.8189 - val_loss: 0.2799 - val_accuracy: 0.8885\n",
      "Epoch 2/5\n",
      "1280/1280 [==============================] - 345s 270ms/step - loss: 0.2563 - accuracy: 0.9000 - val_loss: 0.2678 - val_accuracy: 0.8879\n",
      "Epoch 3/5\n",
      "1280/1280 [==============================] - 349s 273ms/step - loss: 0.1974 - accuracy: 0.9276 - val_loss: 0.2714 - val_accuracy: 0.8926\n",
      "Epoch 4/5\n",
      "1280/1280 [==============================] - 347s 271ms/step - loss: 0.1589 - accuracy: 0.9449 - val_loss: 0.2916 - val_accuracy: 0.8903\n",
      "Epoch 5/5\n",
      "1280/1280 [==============================] - 345s 269ms/step - loss: 0.1303 - accuracy: 0.9540 - val_loss: 0.3095 - val_accuracy: 0.8864\n"
     ]
    },
    {
     "name": "stderr",
     "output_type": "stream",
     "text": [
      "\n",
      "\n",
      " 48%|████▊     | 13/27 [9:20:06<9:52:25, 2538.94s/it] \u001b[A\u001b[A"
     ]
    },
    {
     "name": "stdout",
     "output_type": "stream",
     "text": [
      "Epoch 1/5\n",
      "1280/1280 [==============================] - 493s 384ms/step - loss: 0.4153 - accuracy: 0.8348 - val_loss: 0.2622 - val_accuracy: 0.8921\n",
      "Epoch 2/5\n",
      "1280/1280 [==============================] - 490s 383ms/step - loss: 0.2141 - accuracy: 0.9179 - val_loss: 0.2617 - val_accuracy: 0.8967\n",
      "Epoch 3/5\n",
      "1280/1280 [==============================] - 491s 383ms/step - loss: 0.1518 - accuracy: 0.9440 - val_loss: 0.2754 - val_accuracy: 0.8934\n",
      "Epoch 4/5\n",
      "1280/1280 [==============================] - 491s 384ms/step - loss: 0.1057 - accuracy: 0.9627 - val_loss: 0.3350 - val_accuracy: 0.8917\n",
      "Epoch 5/5\n",
      "1280/1280 [==============================] - 490s 383ms/step - loss: 0.0827 - accuracy: 0.9731 - val_loss: 0.3932 - val_accuracy: 0.8865\n"
     ]
    },
    {
     "name": "stderr",
     "output_type": "stream",
     "text": [
      "\n",
      "\n",
      " 52%|█████▏    | 14/27 [10:01:02<9:04:39, 2513.82s/it]\u001b[A\u001b[A"
     ]
    },
    {
     "name": "stdout",
     "output_type": "stream",
     "text": [
      "Epoch 1/5\n",
      "1280/1280 [==============================] - 744s 580ms/step - loss: 0.4292 - accuracy: 0.8285 - val_loss: 0.2668 - val_accuracy: 0.8879\n",
      "Epoch 2/5\n",
      "1280/1280 [==============================] - 744s 581ms/step - loss: 0.2211 - accuracy: 0.9165 - val_loss: 0.2528 - val_accuracy: 0.8967\n",
      "Epoch 3/5\n",
      "1280/1280 [==============================] - 744s 581ms/step - loss: 0.1521 - accuracy: 0.9449 - val_loss: 0.2848 - val_accuracy: 0.8977\n",
      "Epoch 4/5\n",
      "1280/1280 [==============================] - 743s 580ms/step - loss: 0.1030 - accuracy: 0.9657 - val_loss: 0.3598 - val_accuracy: 0.8941\n",
      "Epoch 5/5\n",
      "1280/1280 [==============================] - 745s 582ms/step - loss: 0.0668 - accuracy: 0.9772 - val_loss: 0.3958 - val_accuracy: 0.8919\n"
     ]
    },
    {
     "name": "stderr",
     "output_type": "stream",
     "text": [
      "\n",
      "\n",
      " 56%|█████▌    | 15/27 [11:03:03<9:35:33, 2877.83s/it]\u001b[A\u001b[A"
     ]
    },
    {
     "name": "stdout",
     "output_type": "stream",
     "text": [
      "Epoch 1/5\n",
      "1280/1280 [==============================] - 350s 272ms/step - loss: 0.5297 - accuracy: 0.7821 - val_loss: 0.3421 - val_accuracy: 0.8410\n",
      "Epoch 2/5\n",
      "1280/1280 [==============================] - 345s 269ms/step - loss: 0.3950 - accuracy: 0.8357 - val_loss: 0.3053 - val_accuracy: 0.8636\n",
      "Epoch 3/5\n",
      "1280/1280 [==============================] - 350s 273ms/step - loss: 0.3435 - accuracy: 0.8545 - val_loss: 0.2971 - val_accuracy: 0.8730\n",
      "Epoch 4/5\n",
      "1280/1280 [==============================] - 348s 272ms/step - loss: 0.3056 - accuracy: 0.8708 - val_loss: 0.2924 - val_accuracy: 0.8802\n",
      "Epoch 5/5\n",
      "1280/1280 [==============================] - 348s 272ms/step - loss: 0.2890 - accuracy: 0.8744 - val_loss: 0.2853 - val_accuracy: 0.8834\n"
     ]
    },
    {
     "name": "stderr",
     "output_type": "stream",
     "text": [
      "\n",
      "\n",
      " 59%|█████▉    | 16/27 [11:32:05<7:44:54, 2535.84s/it]\u001b[A\u001b[A"
     ]
    },
    {
     "name": "stdout",
     "output_type": "stream",
     "text": [
      "Epoch 1/5\n",
      "1280/1280 [==============================] - 493s 383ms/step - loss: 0.4765 - accuracy: 0.8086 - val_loss: 0.2888 - val_accuracy: 0.8758\n",
      "Epoch 2/5\n",
      "1280/1280 [==============================] - 490s 383ms/step - loss: 0.3086 - accuracy: 0.8633 - val_loss: 0.2789 - val_accuracy: 0.8785\n",
      "Epoch 3/5\n",
      "1280/1280 [==============================] - 490s 383ms/step - loss: 0.2382 - accuracy: 0.9093 - val_loss: 0.2700 - val_accuracy: 0.8909\n",
      "Epoch 4/5\n",
      "1280/1280 [==============================] - 494s 386ms/step - loss: 0.1816 - accuracy: 0.9333 - val_loss: 0.3024 - val_accuracy: 0.8830\n",
      "Epoch 5/5\n",
      "1280/1280 [==============================] - 490s 383ms/step - loss: 0.1609 - accuracy: 0.9451 - val_loss: 0.3803 - val_accuracy: 0.8827\n"
     ]
    },
    {
     "name": "stderr",
     "output_type": "stream",
     "text": [
      "\n",
      "\n",
      " 63%|██████▎   | 17/27 [12:13:02<6:58:40, 2512.01s/it]\u001b[A\u001b[A"
     ]
    },
    {
     "name": "stdout",
     "output_type": "stream",
     "text": [
      "Epoch 1/5\n",
      "1280/1280 [==============================] - 746s 582ms/step - loss: 0.4643 - accuracy: 0.8057 - val_loss: 0.3510 - val_accuracy: 0.8287\n",
      "Epoch 2/5\n",
      "1280/1280 [==============================] - 749s 585ms/step - loss: 0.2908 - accuracy: 0.8803 - val_loss: 0.2647 - val_accuracy: 0.8860\n",
      "Epoch 3/5\n",
      "1280/1280 [==============================] - 745s 582ms/step - loss: 0.2162 - accuracy: 0.9162 - val_loss: 0.2675 - val_accuracy: 0.8898\n",
      "Epoch 4/5\n",
      "1280/1280 [==============================] - 747s 584ms/step - loss: 0.1655 - accuracy: 0.9409 - val_loss: 0.3564 - val_accuracy: 0.8890\n",
      "Epoch 5/5\n",
      "1280/1280 [==============================] - 748s 585ms/step - loss: 0.1288 - accuracy: 0.9528 - val_loss: 0.3420 - val_accuracy: 0.8865\n"
     ]
    },
    {
     "name": "stderr",
     "output_type": "stream",
     "text": [
      "\n",
      "\n",
      " 67%|██████▋   | 18/27 [13:15:18<7:11:59, 2879.90s/it]\u001b[A\u001b[A"
     ]
    },
    {
     "name": "stdout",
     "output_type": "stream",
     "text": [
      "Epoch 1/5\n",
      "1280/1280 [==============================] - 355s 276ms/step - loss: 0.4123 - accuracy: 0.8302 - val_loss: 0.2667 - val_accuracy: 0.8909\n",
      "Epoch 2/5\n",
      "1280/1280 [==============================] - 349s 273ms/step - loss: 0.2123 - accuracy: 0.9172 - val_loss: 0.2524 - val_accuracy: 0.8980\n",
      "Epoch 3/5\n",
      "1280/1280 [==============================] - 346s 271ms/step - loss: 0.1475 - accuracy: 0.9463 - val_loss: 0.2710 - val_accuracy: 0.8941\n",
      "Epoch 4/5\n",
      "1280/1280 [==============================] - 346s 270ms/step - loss: 0.1094 - accuracy: 0.9611 - val_loss: 0.3168 - val_accuracy: 0.8865\n",
      "Epoch 5/5\n",
      "1280/1280 [==============================] - 348s 272ms/step - loss: 0.0819 - accuracy: 0.9711 - val_loss: 0.3499 - val_accuracy: 0.8843\n"
     ]
    },
    {
     "name": "stderr",
     "output_type": "stream",
     "text": [
      "\n",
      "\n",
      " 70%|███████   | 19/27 [13:44:23<5:38:32, 2539.09s/it]\u001b[A\u001b[A"
     ]
    },
    {
     "name": "stdout",
     "output_type": "stream",
     "text": [
      "Epoch 1/5\n",
      "1280/1280 [==============================] - 497s 387ms/step - loss: 0.3877 - accuracy: 0.8401 - val_loss: 0.2501 - val_accuracy: 0.8976\n",
      "Epoch 2/5\n",
      "1280/1280 [==============================] - 491s 384ms/step - loss: 0.1905 - accuracy: 0.9258 - val_loss: 0.2514 - val_accuracy: 0.8977\n",
      "Epoch 3/5\n",
      "1280/1280 [==============================] - 492s 384ms/step - loss: 0.1141 - accuracy: 0.9576 - val_loss: 0.2870 - val_accuracy: 0.8945\n",
      "Epoch 4/5\n",
      "1280/1280 [==============================] - 497s 388ms/step - loss: 0.0678 - accuracy: 0.9765 - val_loss: 0.3484 - val_accuracy: 0.8957\n",
      "Epoch 5/5\n",
      "1280/1280 [==============================] - 492s 384ms/step - loss: 0.0489 - accuracy: 0.9833 - val_loss: 0.4741 - val_accuracy: 0.8937\n"
     ]
    },
    {
     "name": "stderr",
     "output_type": "stream",
     "text": [
      "\n",
      "\n",
      " 74%|███████▍  | 20/27 [14:25:33<4:53:49, 2518.45s/it]\u001b[A\u001b[A"
     ]
    },
    {
     "name": "stdout",
     "output_type": "stream",
     "text": [
      "Epoch 1/5\n",
      "1280/1280 [==============================] - 752s 586ms/step - loss: 0.3824 - accuracy: 0.8423 - val_loss: 0.2545 - val_accuracy: 0.8965\n",
      "Epoch 2/5\n",
      "1280/1280 [==============================] - 746s 583ms/step - loss: 0.1925 - accuracy: 0.9233 - val_loss: 0.2510 - val_accuracy: 0.8997\n",
      "Epoch 3/5\n",
      "1280/1280 [==============================] - 746s 583ms/step - loss: 0.1137 - accuracy: 0.9596 - val_loss: 0.2769 - val_accuracy: 0.8960\n",
      "Epoch 4/5\n",
      "1280/1280 [==============================] - 744s 582ms/step - loss: 0.0741 - accuracy: 0.9737 - val_loss: 0.3697 - val_accuracy: 0.8951\n",
      "Epoch 5/5\n",
      "1280/1280 [==============================] - 747s 584ms/step - loss: 0.0475 - accuracy: 0.9836 - val_loss: 0.4370 - val_accuracy: 0.8918\n"
     ]
    },
    {
     "name": "stderr",
     "output_type": "stream",
     "text": [
      "\n",
      "\n",
      " 78%|███████▊  | 21/27 [15:27:50<4:48:25, 2884.19s/it]\u001b[A\u001b[A"
     ]
    },
    {
     "name": "stdout",
     "output_type": "stream",
     "text": [
      "Epoch 1/5\n",
      "1280/1280 [==============================] - 353s 274ms/step - loss: 0.4322 - accuracy: 0.8254 - val_loss: 0.2819 - val_accuracy: 0.8859\n",
      "Epoch 2/5\n",
      "1280/1280 [==============================] - 345s 270ms/step - loss: 0.2585 - accuracy: 0.8994 - val_loss: 0.2619 - val_accuracy: 0.8908\n",
      "Epoch 3/5\n",
      "1280/1280 [==============================] - 344s 269ms/step - loss: 0.2085 - accuracy: 0.9221 - val_loss: 0.2798 - val_accuracy: 0.8874\n",
      "Epoch 4/5\n",
      "1280/1280 [==============================] - 347s 271ms/step - loss: 0.1629 - accuracy: 0.9409 - val_loss: 0.2786 - val_accuracy: 0.8886\n",
      "Epoch 5/5\n",
      "1280/1280 [==============================] - 348s 272ms/step - loss: 0.1354 - accuracy: 0.9503 - val_loss: 0.3162 - val_accuracy: 0.8766\n"
     ]
    },
    {
     "name": "stderr",
     "output_type": "stream",
     "text": [
      "\n",
      "\n",
      " 81%|████████▏ | 22/27 [15:56:49<3:31:41, 2540.31s/it]\u001b[A\u001b[A"
     ]
    },
    {
     "name": "stdout",
     "output_type": "stream",
     "text": [
      "Epoch 1/5\n",
      "1280/1280 [==============================] - 492s 383ms/step - loss: 0.4002 - accuracy: 0.8381 - val_loss: 0.2666 - val_accuracy: 0.8894\n",
      "Epoch 2/5\n",
      "1280/1280 [==============================] - 487s 381ms/step - loss: 0.2103 - accuracy: 0.9176 - val_loss: 0.2652 - val_accuracy: 0.8975\n",
      "Epoch 3/5\n",
      "1280/1280 [==============================] - 488s 381ms/step - loss: 0.1437 - accuracy: 0.9480 - val_loss: 0.2751 - val_accuracy: 0.8978\n",
      "Epoch 4/5\n",
      "1280/1280 [==============================] - 488s 381ms/step - loss: 0.1045 - accuracy: 0.9634 - val_loss: 0.3507 - val_accuracy: 0.8961\n",
      "Epoch 5/5\n",
      "1280/1280 [==============================] - 492s 385ms/step - loss: 0.0732 - accuracy: 0.9740 - val_loss: 0.4108 - val_accuracy: 0.8863\n"
     ]
    },
    {
     "name": "stderr",
     "output_type": "stream",
     "text": [
      "\n",
      "\n",
      " 85%|████████▌ | 23/27 [16:37:37<2:47:31, 2512.81s/it]\u001b[A\u001b[A"
     ]
    },
    {
     "name": "stdout",
     "output_type": "stream",
     "text": [
      "Epoch 1/5\n",
      "1280/1280 [==============================] - 751s 585ms/step - loss: 0.3961 - accuracy: 0.8411 - val_loss: 0.2629 - val_accuracy: 0.8965\n",
      "Epoch 2/5\n",
      "1280/1280 [==============================] - 751s 587ms/step - loss: 0.2028 - accuracy: 0.9210 - val_loss: 0.2916 - val_accuracy: 0.8870\n",
      "Epoch 3/5\n",
      "1280/1280 [==============================] - 745s 582ms/step - loss: 0.1346 - accuracy: 0.9498 - val_loss: 0.2710 - val_accuracy: 0.8975\n",
      "Epoch 4/5\n",
      "1280/1280 [==============================] - 746s 583ms/step - loss: 0.0909 - accuracy: 0.9678 - val_loss: 0.3649 - val_accuracy: 0.8925\n",
      "Epoch 5/5\n",
      "1280/1280 [==============================] - 746s 583ms/step - loss: 0.0638 - accuracy: 0.9779 - val_loss: 0.3824 - val_accuracy: 0.8929\n"
     ]
    },
    {
     "name": "stderr",
     "output_type": "stream",
     "text": [
      "\n",
      "\n",
      " 89%|████████▉ | 24/27 [17:39:57<2:24:02, 2880.93s/it]\u001b[A\u001b[A"
     ]
    },
    {
     "name": "stdout",
     "output_type": "stream",
     "text": [
      "Epoch 1/5\n",
      "1280/1280 [==============================] - 354s 275ms/step - loss: 0.5052 - accuracy: 0.7915 - val_loss: 0.3195 - val_accuracy: 0.8648\n",
      "Epoch 2/5\n",
      "1280/1280 [==============================] - 351s 274ms/step - loss: 0.3670 - accuracy: 0.8444 - val_loss: 0.3038 - val_accuracy: 0.8724\n",
      "Epoch 3/5\n",
      "1280/1280 [==============================] - 351s 274ms/step - loss: 0.3203 - accuracy: 0.8613 - val_loss: 0.2898 - val_accuracy: 0.8833\n",
      "Epoch 4/5\n",
      "1280/1280 [==============================] - 348s 272ms/step - loss: 0.3018 - accuracy: 0.8729 - val_loss: 0.2790 - val_accuracy: 0.8836\n",
      "Epoch 5/5\n",
      "1280/1280 [==============================] - 349s 273ms/step - loss: 0.2801 - accuracy: 0.8767 - val_loss: 0.2945 - val_accuracy: 0.8790\n"
     ]
    },
    {
     "name": "stderr",
     "output_type": "stream",
     "text": [
      "\n",
      "\n",
      " 93%|█████████▎| 25/27 [18:09:10<1:24:45, 2542.55s/it]\u001b[A\u001b[A"
     ]
    },
    {
     "name": "stdout",
     "output_type": "stream",
     "text": [
      "Epoch 1/5\n",
      "1280/1280 [==============================] - 498s 387ms/step - loss: 0.4626 - accuracy: 0.8096 - val_loss: 0.2850 - val_accuracy: 0.8816\n",
      "Epoch 2/5\n",
      "1280/1280 [==============================] - 493s 385ms/step - loss: 0.2556 - accuracy: 0.9025 - val_loss: 0.2630 - val_accuracy: 0.8843\n",
      "Epoch 3/5\n",
      "1280/1280 [==============================] - 491s 384ms/step - loss: 0.1998 - accuracy: 0.9250 - val_loss: 0.2683 - val_accuracy: 0.8885\n",
      "Epoch 4/5\n",
      "1280/1280 [==============================] - 492s 385ms/step - loss: 0.1630 - accuracy: 0.9415 - val_loss: 0.2999 - val_accuracy: 0.8849\n",
      "Epoch 5/5\n",
      "1280/1280 [==============================] - 492s 385ms/step - loss: 0.1267 - accuracy: 0.9572 - val_loss: 0.3071 - val_accuracy: 0.8840\n"
     ]
    },
    {
     "name": "stderr",
     "output_type": "stream",
     "text": [
      "\n",
      "\n",
      " 96%|█████████▋| 26/27 [18:50:17<41:59, 2519.94s/it]  \u001b[A\u001b[A"
     ]
    },
    {
     "name": "stdout",
     "output_type": "stream",
     "text": [
      "Epoch 1/5\n",
      "1280/1280 [==============================] - 747s 582ms/step - loss: 0.4578 - accuracy: 0.8082 - val_loss: 0.2887 - val_accuracy: 0.8761\n",
      "Epoch 2/5\n",
      "1280/1280 [==============================] - 750s 586ms/step - loss: 0.2652 - accuracy: 0.8943 - val_loss: 0.2746 - val_accuracy: 0.8811\n",
      "Epoch 3/5\n",
      "1280/1280 [==============================] - 751s 587ms/step - loss: 0.2261 - accuracy: 0.9130 - val_loss: 0.2907 - val_accuracy: 0.8813\n",
      "Epoch 4/5\n",
      "1280/1280 [==============================] - 752s 588ms/step - loss: 0.1655 - accuracy: 0.9412 - val_loss: 0.2904 - val_accuracy: 0.8885\n",
      "Epoch 5/5\n",
      "1280/1280 [==============================] - 751s 587ms/step - loss: 0.1154 - accuracy: 0.9589 - val_loss: 0.3657 - val_accuracy: 0.8895\n"
     ]
    },
    {
     "name": "stderr",
     "output_type": "stream",
     "text": [
      "\n",
      "\n",
      "100%|██████████| 27/27 [19:52:50<00:00, 2650.75s/it]\u001b[A\u001b[A\n"
     ]
    },
    {
     "data": {
      "text/plain": [
       "<tensorflow.python.keras.engine.sequential.Sequential at 0x2139a80ba88>"
      ]
     },
     "execution_count": 17,
     "metadata": {},
     "output_type": "execute_result"
    }
   ],
   "source": [
    "results = Scan(X_train_tokenized, y_train, params=params, model=dense_network, experiment_name='grid')\n",
    "results.best_model(metric='accuracy')"
   ]
  },
  {
   "cell_type": "code",
   "execution_count": 19,
   "metadata": {
    "scrolled": true
   },
   "outputs": [
    {
     "data": {
      "text/html": [
       "<div>\n",
       "<style scoped>\n",
       "    .dataframe tbody tr th:only-of-type {\n",
       "        vertical-align: middle;\n",
       "    }\n",
       "\n",
       "    .dataframe tbody tr th {\n",
       "        vertical-align: top;\n",
       "    }\n",
       "\n",
       "    .dataframe thead th {\n",
       "        text-align: right;\n",
       "    }\n",
       "</style>\n",
       "<table border=\"1\" class=\"dataframe\">\n",
       "  <thead>\n",
       "    <tr style=\"text-align: right;\">\n",
       "      <th></th>\n",
       "      <th>round_epochs</th>\n",
       "      <th>loss</th>\n",
       "      <th>accuracy</th>\n",
       "      <th>val_loss</th>\n",
       "      <th>val_accuracy</th>\n",
       "      <th>dense</th>\n",
       "      <th>dropout</th>\n",
       "      <th>lstm</th>\n",
       "    </tr>\n",
       "  </thead>\n",
       "  <tbody>\n",
       "    <tr>\n",
       "      <th>10</th>\n",
       "      <td>5</td>\n",
       "      <td>0.062046</td>\n",
       "      <td>0.978330</td>\n",
       "      <td>0.452788</td>\n",
       "      <td>0.894887</td>\n",
       "      <td>50</td>\n",
       "      <td>0.25</td>\n",
       "      <td>50</td>\n",
       "    </tr>\n",
       "    <tr>\n",
       "      <th>19</th>\n",
       "      <td>5</td>\n",
       "      <td>0.055093</td>\n",
       "      <td>0.980822</td>\n",
       "      <td>0.474116</td>\n",
       "      <td>0.893747</td>\n",
       "      <td>100</td>\n",
       "      <td>0.25</td>\n",
       "      <td>50</td>\n",
       "    </tr>\n",
       "    <tr>\n",
       "      <th>2</th>\n",
       "      <td>5</td>\n",
       "      <td>0.068779</td>\n",
       "      <td>0.978257</td>\n",
       "      <td>0.401478</td>\n",
       "      <td>0.893405</td>\n",
       "      <td>10</td>\n",
       "      <td>0.25</td>\n",
       "      <td>100</td>\n",
       "    </tr>\n",
       "    <tr>\n",
       "      <th>9</th>\n",
       "      <td>5</td>\n",
       "      <td>0.096420</td>\n",
       "      <td>0.966506</td>\n",
       "      <td>0.330394</td>\n",
       "      <td>0.893120</td>\n",
       "      <td>50</td>\n",
       "      <td>0.25</td>\n",
       "      <td>10</td>\n",
       "    </tr>\n",
       "    <tr>\n",
       "      <th>23</th>\n",
       "      <td>5</td>\n",
       "      <td>0.071000</td>\n",
       "      <td>0.974861</td>\n",
       "      <td>0.382407</td>\n",
       "      <td>0.892892</td>\n",
       "      <td>100</td>\n",
       "      <td>0.50</td>\n",
       "      <td>100</td>\n",
       "    </tr>\n",
       "    <tr>\n",
       "      <th>1</th>\n",
       "      <td>5</td>\n",
       "      <td>0.087180</td>\n",
       "      <td>0.973615</td>\n",
       "      <td>0.392137</td>\n",
       "      <td>0.892493</td>\n",
       "      <td>10</td>\n",
       "      <td>0.25</td>\n",
       "      <td>50</td>\n",
       "    </tr>\n",
       "    <tr>\n",
       "      <th>0</th>\n",
       "      <td>5</td>\n",
       "      <td>0.105851</td>\n",
       "      <td>0.964625</td>\n",
       "      <td>0.348987</td>\n",
       "      <td>0.892208</td>\n",
       "      <td>10</td>\n",
       "      <td>0.25</td>\n",
       "      <td>10</td>\n",
       "    </tr>\n",
       "    <tr>\n",
       "      <th>14</th>\n",
       "      <td>5</td>\n",
       "      <td>0.074258</td>\n",
       "      <td>0.973689</td>\n",
       "      <td>0.395824</td>\n",
       "      <td>0.891923</td>\n",
       "      <td>50</td>\n",
       "      <td>0.50</td>\n",
       "      <td>100</td>\n",
       "    </tr>\n",
       "    <tr>\n",
       "      <th>20</th>\n",
       "      <td>5</td>\n",
       "      <td>0.052169</td>\n",
       "      <td>0.981555</td>\n",
       "      <td>0.436970</td>\n",
       "      <td>0.891752</td>\n",
       "      <td>100</td>\n",
       "      <td>0.25</td>\n",
       "      <td>100</td>\n",
       "    </tr>\n",
       "    <tr>\n",
       "      <th>11</th>\n",
       "      <td>5</td>\n",
       "      <td>0.056222</td>\n",
       "      <td>0.979918</td>\n",
       "      <td>0.464181</td>\n",
       "      <td>0.891410</td>\n",
       "      <td>50</td>\n",
       "      <td>0.25</td>\n",
       "      <td>100</td>\n",
       "    </tr>\n",
       "    <tr>\n",
       "      <th>5</th>\n",
       "      <td>5</td>\n",
       "      <td>0.123906</td>\n",
       "      <td>0.957076</td>\n",
       "      <td>0.336556</td>\n",
       "      <td>0.890498</td>\n",
       "      <td>10</td>\n",
       "      <td>0.50</td>\n",
       "      <td>100</td>\n",
       "    </tr>\n",
       "    <tr>\n",
       "      <th>26</th>\n",
       "      <td>5</td>\n",
       "      <td>0.123917</td>\n",
       "      <td>0.956148</td>\n",
       "      <td>0.365657</td>\n",
       "      <td>0.889529</td>\n",
       "      <td>100</td>\n",
       "      <td>0.75</td>\n",
       "      <td>100</td>\n",
       "    </tr>\n",
       "    <tr>\n",
       "      <th>8</th>\n",
       "      <td>5</td>\n",
       "      <td>0.274680</td>\n",
       "      <td>0.855935</td>\n",
       "      <td>0.314573</td>\n",
       "      <td>0.887648</td>\n",
       "      <td>10</td>\n",
       "      <td>0.75</td>\n",
       "      <td>100</td>\n",
       "    </tr>\n",
       "    <tr>\n",
       "      <th>13</th>\n",
       "      <td>5</td>\n",
       "      <td>0.087520</td>\n",
       "      <td>0.970317</td>\n",
       "      <td>0.393237</td>\n",
       "      <td>0.886507</td>\n",
       "      <td>50</td>\n",
       "      <td>0.50</td>\n",
       "      <td>50</td>\n",
       "    </tr>\n",
       "    <tr>\n",
       "      <th>17</th>\n",
       "      <td>5</td>\n",
       "      <td>0.135972</td>\n",
       "      <td>0.951555</td>\n",
       "      <td>0.341980</td>\n",
       "      <td>0.886450</td>\n",
       "      <td>50</td>\n",
       "      <td>0.75</td>\n",
       "      <td>100</td>\n",
       "    </tr>\n",
       "    <tr>\n",
       "      <th>12</th>\n",
       "      <td>5</td>\n",
       "      <td>0.141660</td>\n",
       "      <td>0.949918</td>\n",
       "      <td>0.309490</td>\n",
       "      <td>0.886393</td>\n",
       "      <td>50</td>\n",
       "      <td>0.50</td>\n",
       "      <td>10</td>\n",
       "    </tr>\n",
       "    <tr>\n",
       "      <th>22</th>\n",
       "      <td>5</td>\n",
       "      <td>0.084098</td>\n",
       "      <td>0.969902</td>\n",
       "      <td>0.410847</td>\n",
       "      <td>0.886279</td>\n",
       "      <td>100</td>\n",
       "      <td>0.50</td>\n",
       "      <td>50</td>\n",
       "    </tr>\n",
       "    <tr>\n",
       "      <th>3</th>\n",
       "      <td>5</td>\n",
       "      <td>0.191064</td>\n",
       "      <td>0.930472</td>\n",
       "      <td>0.303283</td>\n",
       "      <td>0.886108</td>\n",
       "      <td>10</td>\n",
       "      <td>0.50</td>\n",
       "      <td>10</td>\n",
       "    </tr>\n",
       "    <tr>\n",
       "      <th>18</th>\n",
       "      <td>5</td>\n",
       "      <td>0.088107</td>\n",
       "      <td>0.968461</td>\n",
       "      <td>0.349939</td>\n",
       "      <td>0.884284</td>\n",
       "      <td>100</td>\n",
       "      <td>0.25</td>\n",
       "      <td>10</td>\n",
       "    </tr>\n",
       "    <tr>\n",
       "      <th>25</th>\n",
       "      <td>5</td>\n",
       "      <td>0.134342</td>\n",
       "      <td>0.953949</td>\n",
       "      <td>0.307133</td>\n",
       "      <td>0.883999</td>\n",
       "      <td>100</td>\n",
       "      <td>0.75</td>\n",
       "      <td>50</td>\n",
       "    </tr>\n",
       "    <tr>\n",
       "      <th>15</th>\n",
       "      <td>5</td>\n",
       "      <td>0.292929</td>\n",
       "      <td>0.872890</td>\n",
       "      <td>0.285325</td>\n",
       "      <td>0.883372</td>\n",
       "      <td>50</td>\n",
       "      <td>0.75</td>\n",
       "      <td>10</td>\n",
       "    </tr>\n",
       "    <tr>\n",
       "      <th>16</th>\n",
       "      <td>5</td>\n",
       "      <td>0.161977</td>\n",
       "      <td>0.944812</td>\n",
       "      <td>0.380253</td>\n",
       "      <td>0.882688</td>\n",
       "      <td>50</td>\n",
       "      <td>0.75</td>\n",
       "      <td>50</td>\n",
       "    </tr>\n",
       "    <tr>\n",
       "      <th>4</th>\n",
       "      <td>5</td>\n",
       "      <td>0.135332</td>\n",
       "      <td>0.952801</td>\n",
       "      <td>0.385940</td>\n",
       "      <td>0.882403</td>\n",
       "      <td>10</td>\n",
       "      <td>0.50</td>\n",
       "      <td>50</td>\n",
       "    </tr>\n",
       "    <tr>\n",
       "      <th>7</th>\n",
       "      <td>5</td>\n",
       "      <td>0.266659</td>\n",
       "      <td>0.891432</td>\n",
       "      <td>0.295401</td>\n",
       "      <td>0.881719</td>\n",
       "      <td>10</td>\n",
       "      <td>0.75</td>\n",
       "      <td>50</td>\n",
       "    </tr>\n",
       "    <tr>\n",
       "      <th>6</th>\n",
       "      <td>5</td>\n",
       "      <td>0.337728</td>\n",
       "      <td>0.869372</td>\n",
       "      <td>0.292582</td>\n",
       "      <td>0.880864</td>\n",
       "      <td>10</td>\n",
       "      <td>0.75</td>\n",
       "      <td>10</td>\n",
       "    </tr>\n",
       "    <tr>\n",
       "      <th>24</th>\n",
       "      <td>5</td>\n",
       "      <td>0.279895</td>\n",
       "      <td>0.876603</td>\n",
       "      <td>0.294507</td>\n",
       "      <td>0.878983</td>\n",
       "      <td>100</td>\n",
       "      <td>0.75</td>\n",
       "      <td>10</td>\n",
       "    </tr>\n",
       "    <tr>\n",
       "      <th>21</th>\n",
       "      <td>5</td>\n",
       "      <td>0.143360</td>\n",
       "      <td>0.947280</td>\n",
       "      <td>0.316184</td>\n",
       "      <td>0.876646</td>\n",
       "      <td>100</td>\n",
       "      <td>0.50</td>\n",
       "      <td>10</td>\n",
       "    </tr>\n",
       "  </tbody>\n",
       "</table>\n",
       "</div>"
      ],
      "text/plain": [
       "    round_epochs      loss  accuracy  val_loss  val_accuracy  dense  dropout  \\\n",
       "10             5  0.062046  0.978330  0.452788      0.894887     50     0.25   \n",
       "19             5  0.055093  0.980822  0.474116      0.893747    100     0.25   \n",
       "2              5  0.068779  0.978257  0.401478      0.893405     10     0.25   \n",
       "9              5  0.096420  0.966506  0.330394      0.893120     50     0.25   \n",
       "23             5  0.071000  0.974861  0.382407      0.892892    100     0.50   \n",
       "1              5  0.087180  0.973615  0.392137      0.892493     10     0.25   \n",
       "0              5  0.105851  0.964625  0.348987      0.892208     10     0.25   \n",
       "14             5  0.074258  0.973689  0.395824      0.891923     50     0.50   \n",
       "20             5  0.052169  0.981555  0.436970      0.891752    100     0.25   \n",
       "11             5  0.056222  0.979918  0.464181      0.891410     50     0.25   \n",
       "5              5  0.123906  0.957076  0.336556      0.890498     10     0.50   \n",
       "26             5  0.123917  0.956148  0.365657      0.889529    100     0.75   \n",
       "8              5  0.274680  0.855935  0.314573      0.887648     10     0.75   \n",
       "13             5  0.087520  0.970317  0.393237      0.886507     50     0.50   \n",
       "17             5  0.135972  0.951555  0.341980      0.886450     50     0.75   \n",
       "12             5  0.141660  0.949918  0.309490      0.886393     50     0.50   \n",
       "22             5  0.084098  0.969902  0.410847      0.886279    100     0.50   \n",
       "3              5  0.191064  0.930472  0.303283      0.886108     10     0.50   \n",
       "18             5  0.088107  0.968461  0.349939      0.884284    100     0.25   \n",
       "25             5  0.134342  0.953949  0.307133      0.883999    100     0.75   \n",
       "15             5  0.292929  0.872890  0.285325      0.883372     50     0.75   \n",
       "16             5  0.161977  0.944812  0.380253      0.882688     50     0.75   \n",
       "4              5  0.135332  0.952801  0.385940      0.882403     10     0.50   \n",
       "7              5  0.266659  0.891432  0.295401      0.881719     10     0.75   \n",
       "6              5  0.337728  0.869372  0.292582      0.880864     10     0.75   \n",
       "24             5  0.279895  0.876603  0.294507      0.878983    100     0.75   \n",
       "21             5  0.143360  0.947280  0.316184      0.876646    100     0.50   \n",
       "\n",
       "    lstm  \n",
       "10    50  \n",
       "19    50  \n",
       "2    100  \n",
       "9     10  \n",
       "23   100  \n",
       "1     50  \n",
       "0     10  \n",
       "14   100  \n",
       "20   100  \n",
       "11   100  \n",
       "5    100  \n",
       "26   100  \n",
       "8    100  \n",
       "13    50  \n",
       "17   100  \n",
       "12    10  \n",
       "22    50  \n",
       "3     10  \n",
       "18    10  \n",
       "25    50  \n",
       "15    10  \n",
       "16    50  \n",
       "4     50  \n",
       "7     50  \n",
       "6     10  \n",
       "24    10  \n",
       "21    10  "
      ]
     },
     "execution_count": 19,
     "metadata": {},
     "output_type": "execute_result"
    }
   ],
   "source": [
    "df = pd.read_csv('grid/030421195726.csv')\n",
    "df.sort_values('val_accuracy', ascending=False)"
   ]
  },
  {
   "cell_type": "code",
   "execution_count": 22,
   "metadata": {},
   "outputs": [
    {
     "data": {
      "text/html": [
       "<div>\n",
       "<style scoped>\n",
       "    .dataframe tbody tr th:only-of-type {\n",
       "        vertical-align: middle;\n",
       "    }\n",
       "\n",
       "    .dataframe tbody tr th {\n",
       "        vertical-align: top;\n",
       "    }\n",
       "\n",
       "    .dataframe thead th {\n",
       "        text-align: right;\n",
       "    }\n",
       "</style>\n",
       "<table border=\"1\" class=\"dataframe\">\n",
       "  <thead>\n",
       "    <tr style=\"text-align: right;\">\n",
       "      <th></th>\n",
       "      <th>round_epochs</th>\n",
       "      <th>loss</th>\n",
       "      <th>accuracy</th>\n",
       "      <th>val_loss</th>\n",
       "      <th>val_accuracy</th>\n",
       "      <th>dense</th>\n",
       "      <th>dropout</th>\n",
       "    </tr>\n",
       "    <tr>\n",
       "      <th>lstm</th>\n",
       "      <th></th>\n",
       "      <th></th>\n",
       "      <th></th>\n",
       "      <th></th>\n",
       "      <th></th>\n",
       "      <th></th>\n",
       "      <th></th>\n",
       "    </tr>\n",
       "  </thead>\n",
       "  <tbody>\n",
       "    <tr>\n",
       "      <th>100</th>\n",
       "      <td>5.0</td>\n",
       "      <td>0.108989</td>\n",
       "      <td>0.956555</td>\n",
       "      <td>0.382181</td>\n",
       "      <td>0.890612</td>\n",
       "      <td>53.333333</td>\n",
       "      <td>0.5</td>\n",
       "    </tr>\n",
       "    <tr>\n",
       "      <th>50</th>\n",
       "      <td>5.0</td>\n",
       "      <td>0.119361</td>\n",
       "      <td>0.957331</td>\n",
       "      <td>0.387984</td>\n",
       "      <td>0.887191</td>\n",
       "      <td>53.333333</td>\n",
       "      <td>0.5</td>\n",
       "    </tr>\n",
       "    <tr>\n",
       "      <th>10</th>\n",
       "      <td>5.0</td>\n",
       "      <td>0.186335</td>\n",
       "      <td>0.927347</td>\n",
       "      <td>0.314521</td>\n",
       "      <td>0.884664</td>\n",
       "      <td>53.333333</td>\n",
       "      <td>0.5</td>\n",
       "    </tr>\n",
       "  </tbody>\n",
       "</table>\n",
       "</div>"
      ],
      "text/plain": [
       "      round_epochs      loss  accuracy  val_loss  val_accuracy      dense  \\\n",
       "lstm                                                                        \n",
       "100            5.0  0.108989  0.956555  0.382181      0.890612  53.333333   \n",
       "50             5.0  0.119361  0.957331  0.387984      0.887191  53.333333   \n",
       "10             5.0  0.186335  0.927347  0.314521      0.884664  53.333333   \n",
       "\n",
       "      dropout  \n",
       "lstm           \n",
       "100       0.5  \n",
       "50        0.5  \n",
       "10        0.5  "
      ]
     },
     "execution_count": 22,
     "metadata": {},
     "output_type": "execute_result"
    }
   ],
   "source": [
    "df.groupby(['lstm']).mean().sort_values('val_accuracy', ascending=False)"
   ]
  },
  {
   "cell_type": "code",
   "execution_count": 21,
   "metadata": {},
   "outputs": [
    {
     "data": {
      "text/html": [
       "<div>\n",
       "<style scoped>\n",
       "    .dataframe tbody tr th:only-of-type {\n",
       "        vertical-align: middle;\n",
       "    }\n",
       "\n",
       "    .dataframe tbody tr th {\n",
       "        vertical-align: top;\n",
       "    }\n",
       "\n",
       "    .dataframe thead th {\n",
       "        text-align: right;\n",
       "    }\n",
       "</style>\n",
       "<table border=\"1\" class=\"dataframe\">\n",
       "  <thead>\n",
       "    <tr style=\"text-align: right;\">\n",
       "      <th></th>\n",
       "      <th>round_epochs</th>\n",
       "      <th>loss</th>\n",
       "      <th>accuracy</th>\n",
       "      <th>val_loss</th>\n",
       "      <th>val_accuracy</th>\n",
       "      <th>dropout</th>\n",
       "      <th>lstm</th>\n",
       "    </tr>\n",
       "    <tr>\n",
       "      <th>dense</th>\n",
       "      <th></th>\n",
       "      <th></th>\n",
       "      <th></th>\n",
       "      <th></th>\n",
       "      <th></th>\n",
       "      <th></th>\n",
       "      <th></th>\n",
       "    </tr>\n",
       "  </thead>\n",
       "  <tbody>\n",
       "    <tr>\n",
       "      <th>50</th>\n",
       "      <td>5.0</td>\n",
       "      <td>0.123223</td>\n",
       "      <td>0.954215</td>\n",
       "      <td>0.372608</td>\n",
       "      <td>0.888528</td>\n",
       "      <td>0.5</td>\n",
       "      <td>53.333333</td>\n",
       "    </tr>\n",
       "    <tr>\n",
       "      <th>10</th>\n",
       "      <td>5.0</td>\n",
       "      <td>0.176798</td>\n",
       "      <td>0.930398</td>\n",
       "      <td>0.341215</td>\n",
       "      <td>0.887483</td>\n",
       "      <td>0.5</td>\n",
       "      <td>53.333333</td>\n",
       "    </tr>\n",
       "    <tr>\n",
       "      <th>100</th>\n",
       "      <td>5.0</td>\n",
       "      <td>0.114665</td>\n",
       "      <td>0.956620</td>\n",
       "      <td>0.370862</td>\n",
       "      <td>0.886457</td>\n",
       "      <td>0.5</td>\n",
       "      <td>53.333333</td>\n",
       "    </tr>\n",
       "  </tbody>\n",
       "</table>\n",
       "</div>"
      ],
      "text/plain": [
       "       round_epochs      loss  accuracy  val_loss  val_accuracy  dropout  \\\n",
       "dense                                                                      \n",
       "50              5.0  0.123223  0.954215  0.372608      0.888528      0.5   \n",
       "10              5.0  0.176798  0.930398  0.341215      0.887483      0.5   \n",
       "100             5.0  0.114665  0.956620  0.370862      0.886457      0.5   \n",
       "\n",
       "            lstm  \n",
       "dense             \n",
       "50     53.333333  \n",
       "10     53.333333  \n",
       "100    53.333333  "
      ]
     },
     "execution_count": 21,
     "metadata": {},
     "output_type": "execute_result"
    }
   ],
   "source": [
    "df.groupby(['dense']).mean().sort_values('val_accuracy', ascending=False)"
   ]
  },
  {
   "cell_type": "code",
   "execution_count": 23,
   "metadata": {},
   "outputs": [
    {
     "data": {
      "text/html": [
       "<div>\n",
       "<style scoped>\n",
       "    .dataframe tbody tr th:only-of-type {\n",
       "        vertical-align: middle;\n",
       "    }\n",
       "\n",
       "    .dataframe tbody tr th {\n",
       "        vertical-align: top;\n",
       "    }\n",
       "\n",
       "    .dataframe thead th {\n",
       "        text-align: right;\n",
       "    }\n",
       "</style>\n",
       "<table border=\"1\" class=\"dataframe\">\n",
       "  <thead>\n",
       "    <tr style=\"text-align: right;\">\n",
       "      <th></th>\n",
       "      <th>round_epochs</th>\n",
       "      <th>loss</th>\n",
       "      <th>accuracy</th>\n",
       "      <th>val_loss</th>\n",
       "      <th>val_accuracy</th>\n",
       "      <th>dense</th>\n",
       "      <th>lstm</th>\n",
       "    </tr>\n",
       "    <tr>\n",
       "      <th>dropout</th>\n",
       "      <th></th>\n",
       "      <th></th>\n",
       "      <th></th>\n",
       "      <th></th>\n",
       "      <th></th>\n",
       "      <th></th>\n",
       "      <th></th>\n",
       "    </tr>\n",
       "  </thead>\n",
       "  <tbody>\n",
       "    <tr>\n",
       "      <th>0.25</th>\n",
       "      <td>5.0</td>\n",
       "      <td>0.074652</td>\n",
       "      <td>0.974677</td>\n",
       "      <td>0.405665</td>\n",
       "      <td>0.891923</td>\n",
       "      <td>53.333333</td>\n",
       "      <td>53.333333</td>\n",
       "    </tr>\n",
       "    <tr>\n",
       "      <th>0.50</th>\n",
       "      <td>5.0</td>\n",
       "      <td>0.116911</td>\n",
       "      <td>0.958480</td>\n",
       "      <td>0.359308</td>\n",
       "      <td>0.886628</td>\n",
       "      <td>53.333333</td>\n",
       "      <td>53.333333</td>\n",
       "    </tr>\n",
       "    <tr>\n",
       "      <th>0.75</th>\n",
       "      <td>5.0</td>\n",
       "      <td>0.223122</td>\n",
       "      <td>0.908077</td>\n",
       "      <td>0.319712</td>\n",
       "      <td>0.883917</td>\n",
       "      <td>53.333333</td>\n",
       "      <td>53.333333</td>\n",
       "    </tr>\n",
       "  </tbody>\n",
       "</table>\n",
       "</div>"
      ],
      "text/plain": [
       "         round_epochs      loss  accuracy  val_loss  val_accuracy      dense  \\\n",
       "dropout                                                                        \n",
       "0.25              5.0  0.074652  0.974677  0.405665      0.891923  53.333333   \n",
       "0.50              5.0  0.116911  0.958480  0.359308      0.886628  53.333333   \n",
       "0.75              5.0  0.223122  0.908077  0.319712      0.883917  53.333333   \n",
       "\n",
       "              lstm  \n",
       "dropout             \n",
       "0.25     53.333333  \n",
       "0.50     53.333333  \n",
       "0.75     53.333333  "
      ]
     },
     "execution_count": 23,
     "metadata": {},
     "output_type": "execute_result"
    }
   ],
   "source": [
    "df.groupby(['dropout']).mean().sort_values('val_accuracy', ascending=False)"
   ]
  },
  {
   "cell_type": "markdown",
   "metadata": {},
   "source": [
    "## Final Model"
   ]
  },
  {
   "cell_type": "code",
   "execution_count": 7,
   "metadata": {},
   "outputs": [],
   "source": [
    "model = Sequential()\n",
    "\n",
    "# hidden layers\n",
    "model.add(Embedding(20000, 512))\n",
    "model.add(LSTM(50, return_sequences=True))\n",
    "model.add(GlobalMaxPool1D())\n",
    "model.add(Dropout(0.25))\n",
    "model.add(Dense(50, activation='relu'))\n",
    "model.add(Dropout(0.25))\n",
    "\n",
    "# output layer\n",
    "model.add(Dense(1, activation='sigmoid'))\n",
    "\n",
    "model.compile(loss='binary_crossentropy', optimizer='adam', metrics=['accuracy'])"
   ]
  },
  {
   "cell_type": "code",
   "execution_count": 8,
   "metadata": {},
   "outputs": [
    {
     "name": "stdout",
     "output_type": "stream",
     "text": [
      "Epoch 1/10\n",
      "1645/1645 [==============================] - 582s 353ms/step - loss: 0.3683 - accuracy: 0.8483 - val_loss: 0.2536 - val_accuracy: 0.8940\n",
      "Epoch 2/10\n",
      "1645/1645 [==============================] - 569s 346ms/step - loss: 0.1798 - accuracy: 0.9289 - val_loss: 0.2503 - val_accuracy: 0.8969\n",
      "Epoch 3/10\n",
      "1645/1645 [==============================] - 567s 345ms/step - loss: 0.1151 - accuracy: 0.9581 - val_loss: 0.3334 - val_accuracy: 0.8878\n",
      "Epoch 4/10\n",
      "1645/1645 [==============================] - 559s 340ms/step - loss: 0.0733 - accuracy: 0.9731 - val_loss: 0.3499 - val_accuracy: 0.8921\n",
      "Epoch 5/10\n",
      "1645/1645 [==============================] - 577s 351ms/step - loss: 0.0500 - accuracy: 0.9829 - val_loss: 0.4385 - val_accuracy: 0.8895\n",
      "Epoch 6/10\n",
      "1645/1645 [==============================] - 577s 351ms/step - loss: 0.0361 - accuracy: 0.9874 - val_loss: 0.4749 - val_accuracy: 0.8846\n",
      "Epoch 7/10\n",
      "1645/1645 [==============================] - 564s 343ms/step - loss: 0.0324 - accuracy: 0.9888 - val_loss: 0.5748 - val_accuracy: 0.8870\n",
      "Epoch 8/10\n",
      "1645/1645 [==============================] - 547s 332ms/step - loss: 0.0254 - accuracy: 0.9919 - val_loss: 0.5661 - val_accuracy: 0.8825\n",
      "Epoch 9/10\n",
      "1645/1645 [==============================] - 549s 333ms/step - loss: 0.0206 - accuracy: 0.9935 - val_loss: 0.5829 - val_accuracy: 0.8868\n",
      "Epoch 10/10\n",
      "1645/1645 [==============================] - 542s 329ms/step - loss: 0.0191 - accuracy: 0.9938 - val_loss: 0.7018 - val_accuracy: 0.8863\n"
     ]
    },
    {
     "data": {
      "text/plain": [
       "<tensorflow.python.keras.callbacks.History at 0x23bda81e3c8>"
      ]
     },
     "execution_count": 8,
     "metadata": {},
     "output_type": "execute_result"
    }
   ],
   "source": [
    "model.fit(X_train_tokenized, y_train, epochs=10, batch_size=32, validation_split=0.1)"
   ]
  },
  {
   "cell_type": "code",
   "execution_count": 9,
   "metadata": {},
   "outputs": [
    {
     "name": "stdout",
     "output_type": "stream",
     "text": [
      "457/457 [==============================] - 31s 67ms/step - loss: 0.6396 - accuracy: 0.8946\n"
     ]
    },
    {
     "data": {
      "text/plain": [
       "[0.639572024345398, 0.8945964574813843]"
      ]
     },
     "execution_count": 9,
     "metadata": {},
     "output_type": "execute_result"
    }
   ],
   "source": [
    "model.evaluate(X_test_tokenized, y_test)"
   ]
  },
  {
   "cell_type": "code",
   "execution_count": 10,
   "metadata": {},
   "outputs": [
    {
     "name": "stderr",
     "output_type": "stream",
     "text": [
      "WARNING:absl:Found untraced functions such as lstm_cell_layer_call_and_return_conditional_losses, lstm_cell_layer_call_fn, lstm_cell_layer_call_fn, lstm_cell_layer_call_and_return_conditional_losses, lstm_cell_layer_call_and_return_conditional_losses while saving (showing 5 of 5). These functions will not be directly callable after loading.\n",
      "WARNING:absl:Found untraced functions such as lstm_cell_layer_call_and_return_conditional_losses, lstm_cell_layer_call_fn, lstm_cell_layer_call_fn, lstm_cell_layer_call_and_return_conditional_losses, lstm_cell_layer_call_and_return_conditional_losses while saving (showing 5 of 5). These functions will not be directly callable after loading.\n"
     ]
    },
    {
     "name": "stdout",
     "output_type": "stream",
     "text": [
      "INFO:tensorflow:Assets written to: ../final_model/model\\assets\n"
     ]
    },
    {
     "name": "stderr",
     "output_type": "stream",
     "text": [
      "INFO:tensorflow:Assets written to: ../final_model/model\\assets\n"
     ]
    }
   ],
   "source": [
    "model.save('../final_model/model')\n",
    "model.save_weights('../final_model/_weights')"
   ]
  },
  {
   "cell_type": "code",
   "execution_count": null,
   "metadata": {},
   "outputs": [],
   "source": []
  }
 ],
 "metadata": {
  "kernelspec": {
   "display_name": "capstone",
   "language": "python",
   "name": "capstone"
  },
  "language_info": {
   "codemirror_mode": {
    "name": "ipython",
    "version": 3
   },
   "file_extension": ".py",
   "mimetype": "text/x-python",
   "name": "python",
   "nbconvert_exporter": "python",
   "pygments_lexer": "ipython3",
   "version": "3.7.9"
  }
 },
 "nbformat": 4,
 "nbformat_minor": 4
}
