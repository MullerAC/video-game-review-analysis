{
 "cells": [
  {
   "cell_type": "markdown",
   "metadata": {},
   "source": [
    "# Topic Analysis"
   ]
  },
  {
   "cell_type": "markdown",
   "metadata": {},
   "source": [
    "This is a section I have yet to get the time to work on. I would like to perform an unlabeled topic analysis here, using tf-idf data. I believe an unlabaled topic analysis will be much more meaningful to this project than something like LDA. Since the topic of the model could be any game, trying to fit groupings of topics across all games might make it too generic to be useful. Instead, I'd like to tune an tf-idf vectorizer to pick out meaningful words and phrases to each particular class, and use that as a type of topic analysis."
   ]
  }
 ],
 "metadata": {
  "kernelspec": {
   "display_name": "capstone",
   "language": "python",
   "name": "capstone"
  },
  "language_info": {
   "codemirror_mode": {
    "name": "ipython",
    "version": 3
   },
   "file_extension": ".py",
   "mimetype": "text/x-python",
   "name": "python",
   "nbconvert_exporter": "python",
   "pygments_lexer": "ipython3",
   "version": "3.7.9"
  }
 },
 "nbformat": 4,
 "nbformat_minor": 4
}
