{
 "cells": [
  {
   "cell_type": "markdown",
   "metadata": {},
   "source": [
    "# Data Collection"
   ]
  },
  {
   "cell_type": "markdown",
   "metadata": {},
   "source": [
    "To collect all the needed training data, I need to use mostly of the same methods I used to get the sample data. But instead of getting all the reviews from one game, I need a wide variety of games. I start by getting every App ID on Steam, over 115,000. I then grab the first 50 reviews labeled \"most helpful\". Many games had no reviews, or less than 50, especially when only taking english reviews into account. I end up with over one million reviews for this dataset."
   ]
  },
  {
   "cell_type": "markdown",
   "metadata": {},
   "source": [
    "## Getting App IDs"
   ]
  },
  {
   "cell_type": "code",
   "execution_count": 1,
   "metadata": {},
   "outputs": [],
   "source": [
    "import pandas as pd\n",
    "import requests"
   ]
  },
  {
   "cell_type": "code",
   "execution_count": 2,
   "metadata": {},
   "outputs": [
    {
     "data": {
      "text/html": [
       "<div>\n",
       "<style scoped>\n",
       "    .dataframe tbody tr th:only-of-type {\n",
       "        vertical-align: middle;\n",
       "    }\n",
       "\n",
       "    .dataframe tbody tr th {\n",
       "        vertical-align: top;\n",
       "    }\n",
       "\n",
       "    .dataframe thead th {\n",
       "        text-align: right;\n",
       "    }\n",
       "</style>\n",
       "<table border=\"1\" class=\"dataframe\">\n",
       "  <thead>\n",
       "    <tr style=\"text-align: right;\">\n",
       "      <th></th>\n",
       "      <th>appid</th>\n",
       "      <th>name</th>\n",
       "    </tr>\n",
       "  </thead>\n",
       "  <tbody>\n",
       "    <tr>\n",
       "      <th>0</th>\n",
       "      <td>216938</td>\n",
       "      <td>Pieterw test app76 ( 216938 )</td>\n",
       "    </tr>\n",
       "    <tr>\n",
       "      <th>1</th>\n",
       "      <td>660010</td>\n",
       "      <td>test2</td>\n",
       "    </tr>\n",
       "    <tr>\n",
       "      <th>2</th>\n",
       "      <td>660130</td>\n",
       "      <td>test3</td>\n",
       "    </tr>\n",
       "    <tr>\n",
       "      <th>3</th>\n",
       "      <td>1118314</td>\n",
       "      <td></td>\n",
       "    </tr>\n",
       "    <tr>\n",
       "      <th>4</th>\n",
       "      <td>463797</td>\n",
       "      <td>Warhammer Vermintide - Kruber 'Carroburg Liver...</td>\n",
       "    </tr>\n",
       "    <tr>\n",
       "      <th>...</th>\n",
       "      <td>...</td>\n",
       "      <td>...</td>\n",
       "    </tr>\n",
       "    <tr>\n",
       "      <th>115467</th>\n",
       "      <td>1632570</td>\n",
       "      <td>Visual Novel Maker - RPG Orchestral Essentials...</td>\n",
       "    </tr>\n",
       "    <tr>\n",
       "      <th>115468</th>\n",
       "      <td>1494840</td>\n",
       "      <td>SCOOT</td>\n",
       "    </tr>\n",
       "    <tr>\n",
       "      <th>115469</th>\n",
       "      <td>1140180</td>\n",
       "      <td>MAZEMAN</td>\n",
       "    </tr>\n",
       "    <tr>\n",
       "      <th>115470</th>\n",
       "      <td>1073910</td>\n",
       "      <td>Before We Leave</td>\n",
       "    </tr>\n",
       "    <tr>\n",
       "      <th>115471</th>\n",
       "      <td>1626870</td>\n",
       "      <td>MAZEMAN Demo</td>\n",
       "    </tr>\n",
       "  </tbody>\n",
       "</table>\n",
       "<p>115472 rows × 2 columns</p>\n",
       "</div>"
      ],
      "text/plain": [
       "          appid                                               name\n",
       "0        216938                      Pieterw test app76 ( 216938 )\n",
       "1        660010                                              test2\n",
       "2        660130                                              test3\n",
       "3       1118314                                                   \n",
       "4        463797  Warhammer Vermintide - Kruber 'Carroburg Liver...\n",
       "...         ...                                                ...\n",
       "115467  1632570  Visual Novel Maker - RPG Orchestral Essentials...\n",
       "115468  1494840                                              SCOOT\n",
       "115469  1140180                                            MAZEMAN\n",
       "115470  1073910                                    Before We Leave\n",
       "115471  1626870                                       MAZEMAN Demo\n",
       "\n",
       "[115472 rows x 2 columns]"
      ]
     },
     "execution_count": 2,
     "metadata": {},
     "output_type": "execute_result"
    }
   ],
   "source": [
    "response = requests.get('https://api.steampowered.com/ISteamApps/GetAppList/v2/')\n",
    "app_ids_df = pd.DataFrame(response.json()['applist']['apps'])\n",
    "app_ids_df.to_pickle('../data/app_ids.pkl.gz')\n",
    "app_ids_df"
   ]
  },
  {
   "cell_type": "code",
   "execution_count": 5,
   "metadata": {},
   "outputs": [
    {
     "data": {
      "text/plain": [
       "(array([ 216938,  660010,  660130, ..., 1140180, 1073910, 1626870],\n",
       "       dtype=int64),\n",
       " 115472)"
      ]
     },
     "execution_count": 5,
     "metadata": {},
     "output_type": "execute_result"
    }
   ],
   "source": [
    "app_ids = app_ids_df['appid'].to_numpy()\n",
    "app_ids, len(app_ids)"
   ]
  },
  {
   "cell_type": "markdown",
   "metadata": {},
   "source": [
    "## Getting Reviews"
   ]
  },
  {
   "cell_type": "code",
   "execution_count": 6,
   "metadata": {},
   "outputs": [],
   "source": [
    "def get_reviews(appid, params):\n",
    "        url_start = 'https://store.steampowered.com/appreviews/'\n",
    "        try:\n",
    "            response = requests.get(url=url_start+str(appid), params=params, headers={'User-Agent': 'Mozilla/5.0'})\n",
    "        except:\n",
    "                return {'reviews' : []}\n",
    "        return response.json() # return data extracted from the json response"
   ]
  },
  {
   "cell_type": "code",
   "execution_count": 7,
   "metadata": {},
   "outputs": [],
   "source": [
    "reviews = []\n",
    "cursor = '*'\n",
    "params = { # https://partner.steamgames.com/doc/store/getreviews\n",
    "    'json' : 1,\n",
    "    'filter' : 'all', # sort by: recent, updated, all (helpfullness)\n",
    "    'language' : 'english', # https://partner.steamgames.com/doc/store/localization\n",
    "    'day_range' : 9223372036854775807, # shows reveiws from all time\n",
    "    'review_type' : 'all', # all, positive, negative\n",
    "    'purchase_type' : 'all', # all, non_steam_purchase, steam\n",
    "    'num_per_page' : 50,\n",
    "    'cursor' : '*'.encode()\n",
    "          }"
   ]
  },
  {
   "cell_type": "code",
   "execution_count": 8,
   "metadata": {
    "scrolled": true
   },
   "outputs": [
    {
     "name": "stdout",
     "output_type": "stream",
     "text": [
      "500 of 115472: 10598 reviews\n",
      "1000 of 115472: 20406 reviews\n",
      "1500 of 115472: 31317 reviews\n",
      "2000 of 115472: 40640 reviews\n",
      "2500 of 115472: 49629 reviews\n",
      "3000 of 115472: 58870 reviews\n",
      "3500 of 115472: 66955 reviews\n",
      "4000 of 115472: 75854 reviews\n",
      "4500 of 115472: 85265 reviews\n",
      "5000 of 115472: 95172 reviews\n",
      "5500 of 115472: 102967 reviews\n",
      "6000 of 115472: 113580 reviews\n",
      "6500 of 115472: 123413 reviews\n",
      "7000 of 115472: 133254 reviews\n",
      "7500 of 115472: 144513 reviews\n",
      "8000 of 115472: 154169 reviews\n",
      "8500 of 115472: 165639 reviews\n",
      "9000 of 115472: 178371 reviews\n",
      "9500 of 115472: 190025 reviews\n",
      "10000 of 115472: 200838 reviews\n",
      "10500 of 115472: 211107 reviews\n",
      "11000 of 115472: 222326 reviews\n",
      "11500 of 115472: 232323 reviews\n",
      "12000 of 115472: 244254 reviews\n",
      "12500 of 115472: 256739 reviews\n",
      "13000 of 115472: 268477 reviews\n",
      "13500 of 115472: 281895 reviews\n",
      "14000 of 115472: 289666 reviews\n",
      "14500 of 115472: 303750 reviews\n",
      "15000 of 115472: 316116 reviews\n",
      "15500 of 115472: 327800 reviews\n",
      "16000 of 115472: 338292 reviews\n",
      "16500 of 115472: 352944 reviews\n",
      "17000 of 115472: 365974 reviews\n",
      "17500 of 115472: 376891 reviews\n",
      "18000 of 115472: 384815 reviews\n",
      "18500 of 115472: 389814 reviews\n",
      "19000 of 115472: 394087 reviews\n",
      "19500 of 115472: 398346 reviews\n",
      "20000 of 115472: 403106 reviews\n",
      "20500 of 115472: 408896 reviews\n",
      "21000 of 115472: 414234 reviews\n",
      "21500 of 115472: 419093 reviews\n",
      "22000 of 115472: 424414 reviews\n",
      "22500 of 115472: 429859 reviews\n",
      "23000 of 115472: 434394 reviews\n",
      "23500 of 115472: 437825 reviews\n",
      "24000 of 115472: 443495 reviews\n",
      "24500 of 115472: 448243 reviews\n",
      "25000 of 115472: 452697 reviews\n",
      "25500 of 115472: 456864 reviews\n",
      "26000 of 115472: 461838 reviews\n",
      "26500 of 115472: 467310 reviews\n",
      "27000 of 115472: 472919 reviews\n",
      "27500 of 115472: 477841 reviews\n",
      "28000 of 115472: 481860 reviews\n",
      "28500 of 115472: 486098 reviews\n",
      "29000 of 115472: 491157 reviews\n",
      "29500 of 115472: 496913 reviews\n",
      "30000 of 115472: 501453 reviews\n",
      "30500 of 115472: 506169 reviews\n",
      "31000 of 115472: 513866 reviews\n",
      "31500 of 115472: 522056 reviews\n",
      "32000 of 115472: 529286 reviews\n",
      "32500 of 115472: 538049 reviews\n",
      "33000 of 115472: 546523 reviews\n",
      "33500 of 115472: 546526 reviews\n",
      "34000 of 115472: 546536 reviews\n",
      "34500 of 115472: 546549 reviews\n",
      "35000 of 115472: 554527 reviews\n",
      "35500 of 115472: 563317 reviews\n",
      "36000 of 115472: 572219 reviews\n",
      "36500 of 115472: 581414 reviews\n",
      "37000 of 115472: 587902 reviews\n",
      "37500 of 115472: 599804 reviews\n",
      "38000 of 115472: 603969 reviews\n",
      "38500 of 115472: 603970 reviews\n",
      "39000 of 115472: 611474 reviews\n",
      "39500 of 115472: 617867 reviews\n",
      "40000 of 115472: 623418 reviews\n",
      "40500 of 115472: 628356 reviews\n",
      "41000 of 115472: 632920 reviews\n",
      "41500 of 115472: 638177 reviews\n",
      "42000 of 115472: 643357 reviews\n",
      "42500 of 115472: 651057 reviews\n",
      "43000 of 115472: 657020 reviews\n",
      "43500 of 115472: 663634 reviews\n",
      "44000 of 115472: 670362 reviews\n",
      "44500 of 115472: 676407 reviews\n",
      "45000 of 115472: 682797 reviews\n",
      "45500 of 115472: 690528 reviews\n",
      "46000 of 115472: 695518 reviews\n",
      "46500 of 115472: 701256 reviews\n",
      "47000 of 115472: 707687 reviews\n",
      "47500 of 115472: 714030 reviews\n",
      "48000 of 115472: 715211 reviews\n",
      "48500 of 115472: 721863 reviews\n",
      "49000 of 115472: 728561 reviews\n",
      "49500 of 115472: 736737 reviews\n",
      "50000 of 115472: 744960 reviews\n",
      "50500 of 115472: 752868 reviews\n",
      "51000 of 115472: 761157 reviews\n",
      "51500 of 115472: 769554 reviews\n",
      "52000 of 115472: 777772 reviews\n",
      "52500 of 115472: 779592 reviews\n",
      "53000 of 115472: 781636 reviews\n",
      "53500 of 115472: 784310 reviews\n",
      "54000 of 115472: 787107 reviews\n",
      "54500 of 115472: 788866 reviews\n",
      "55000 of 115472: 791195 reviews\n",
      "55500 of 115472: 793587 reviews\n",
      "56000 of 115472: 795782 reviews\n",
      "56500 of 115472: 798929 reviews\n",
      "57000 of 115472: 801310 reviews\n",
      "57500 of 115472: 801790 reviews\n",
      "58000 of 115472: 803004 reviews\n",
      "58500 of 115472: 807032 reviews\n",
      "59000 of 115472: 810678 reviews\n",
      "59500 of 115472: 814641 reviews\n",
      "60000 of 115472: 818507 reviews\n",
      "60500 of 115472: 821966 reviews\n",
      "61000 of 115472: 825606 reviews\n",
      "61500 of 115472: 830042 reviews\n",
      "62000 of 115472: 833577 reviews\n",
      "62500 of 115472: 838165 reviews\n",
      "63000 of 115472: 842655 reviews\n",
      "63500 of 115472: 847707 reviews\n",
      "64000 of 115472: 852418 reviews\n",
      "64500 of 115472: 857263 reviews\n",
      "65000 of 115472: 860377 reviews\n",
      "65500 of 115472: 864676 reviews\n",
      "66000 of 115472: 868799 reviews\n",
      "66500 of 115472: 873410 reviews\n",
      "67000 of 115472: 880297 reviews\n",
      "67500 of 115472: 885945 reviews\n",
      "68000 of 115472: 892242 reviews\n",
      "68500 of 115472: 898232 reviews\n",
      "69000 of 115472: 904674 reviews\n",
      "69500 of 115472: 910318 reviews\n",
      "70000 of 115472: 915847 reviews\n",
      "70500 of 115472: 922915 reviews\n",
      "71000 of 115472: 928273 reviews\n",
      "71500 of 115472: 932684 reviews\n",
      "72000 of 115472: 938692 reviews\n",
      "72500 of 115472: 944065 reviews\n",
      "73000 of 115472: 946042 reviews\n",
      "73500 of 115472: 948313 reviews\n",
      "74000 of 115472: 950056 reviews\n",
      "74500 of 115472: 952883 reviews\n",
      "75000 of 115472: 958017 reviews\n",
      "75500 of 115472: 959759 reviews\n",
      "76000 of 115472: 964782 reviews\n",
      "76500 of 115472: 970959 reviews\n",
      "77000 of 115472: 977414 reviews\n",
      "77500 of 115472: 978762 reviews\n",
      "78000 of 115472: 980999 reviews\n",
      "78500 of 115472: 981864 reviews\n",
      "79000 of 115472: 982876 reviews\n",
      "79500 of 115472: 984172 reviews\n",
      "80000 of 115472: 985556 reviews\n",
      "80500 of 115472: 986857 reviews\n",
      "81000 of 115472: 988289 reviews\n",
      "81500 of 115472: 989429 reviews\n",
      "82000 of 115472: 991319 reviews\n",
      "82500 of 115472: 992981 reviews\n",
      "83000 of 115472: 995510 reviews\n",
      "83500 of 115472: 997209 reviews\n",
      "84000 of 115472: 999157 reviews\n",
      "84500 of 115472: 1001200 reviews\n",
      "85000 of 115472: 1003820 reviews\n"
     ]
    },
    {
     "ename": "JSONDecodeError",
     "evalue": "Unexpected UTF-8 BOM (decode using utf-8-sig): line 1 column 1 (char 0)",
     "output_type": "error",
     "traceback": [
      "\u001b[1;31m---------------------------------------------------------------------------\u001b[0m",
      "\u001b[1;31mJSONDecodeError\u001b[0m                           Traceback (most recent call last)",
      "\u001b[1;32m<ipython-input-8-34345de1862b>\u001b[0m in \u001b[0;36m<module>\u001b[1;34m\u001b[0m\n\u001b[0;32m      1\u001b[0m \u001b[1;32mfor\u001b[0m \u001b[0mi\u001b[0m\u001b[1;33m,\u001b[0m \u001b[0mapp_id\u001b[0m \u001b[1;32min\u001b[0m \u001b[0menumerate\u001b[0m\u001b[1;33m(\u001b[0m\u001b[0mapp_ids\u001b[0m\u001b[1;33m)\u001b[0m\u001b[1;33m:\u001b[0m\u001b[1;33m\u001b[0m\u001b[1;33m\u001b[0m\u001b[0m\n\u001b[1;32m----> 2\u001b[1;33m     \u001b[0mreviews\u001b[0m \u001b[1;33m+=\u001b[0m \u001b[0mget_reviews\u001b[0m\u001b[1;33m(\u001b[0m\u001b[0mapp_id\u001b[0m\u001b[1;33m,\u001b[0m \u001b[0mparams\u001b[0m\u001b[1;33m)\u001b[0m\u001b[1;33m[\u001b[0m\u001b[1;34m'reviews'\u001b[0m\u001b[1;33m]\u001b[0m\u001b[1;33m\u001b[0m\u001b[1;33m\u001b[0m\u001b[0m\n\u001b[0m\u001b[0;32m      3\u001b[0m     \u001b[1;32mif\u001b[0m \u001b[1;33m(\u001b[0m\u001b[0mi\u001b[0m\u001b[1;33m+\u001b[0m\u001b[1;36m1\u001b[0m\u001b[1;33m)\u001b[0m\u001b[1;33m%\u001b[0m\u001b[1;36m500\u001b[0m \u001b[1;33m==\u001b[0m \u001b[1;36m0\u001b[0m\u001b[1;33m:\u001b[0m\u001b[1;33m\u001b[0m\u001b[1;33m\u001b[0m\u001b[0m\n\u001b[0;32m      4\u001b[0m         \u001b[0mprint\u001b[0m\u001b[1;33m(\u001b[0m\u001b[1;34mf'{i+1} of {len(app_ids)}: {len(reviews)} reviews'\u001b[0m\u001b[1;33m)\u001b[0m\u001b[1;33m\u001b[0m\u001b[1;33m\u001b[0m\u001b[0m\n",
      "\u001b[1;32m<ipython-input-6-0e2847b13e8e>\u001b[0m in \u001b[0;36mget_reviews\u001b[1;34m(appid, params)\u001b[0m\n\u001b[0;32m      5\u001b[0m         \u001b[1;32mexcept\u001b[0m\u001b[1;33m:\u001b[0m\u001b[1;33m\u001b[0m\u001b[1;33m\u001b[0m\u001b[0m\n\u001b[0;32m      6\u001b[0m                 \u001b[1;32mreturn\u001b[0m \u001b[1;33m{\u001b[0m\u001b[1;34m'reviews'\u001b[0m \u001b[1;33m:\u001b[0m \u001b[1;33m[\u001b[0m\u001b[1;33m]\u001b[0m\u001b[1;33m}\u001b[0m\u001b[1;33m\u001b[0m\u001b[1;33m\u001b[0m\u001b[0m\n\u001b[1;32m----> 7\u001b[1;33m         \u001b[1;32mreturn\u001b[0m \u001b[0mresponse\u001b[0m\u001b[1;33m.\u001b[0m\u001b[0mjson\u001b[0m\u001b[1;33m(\u001b[0m\u001b[1;33m)\u001b[0m \u001b[1;31m# return data extracted from the json response\u001b[0m\u001b[1;33m\u001b[0m\u001b[1;33m\u001b[0m\u001b[0m\n\u001b[0m",
      "\u001b[1;32m~\\anaconda3\\envs\\capstone\\lib\\site-packages\\requests\\models.py\u001b[0m in \u001b[0;36mjson\u001b[1;34m(self, **kwargs)\u001b[0m\n\u001b[0;32m    898\u001b[0m                     \u001b[1;31m# used.\u001b[0m\u001b[1;33m\u001b[0m\u001b[1;33m\u001b[0m\u001b[1;33m\u001b[0m\u001b[0m\n\u001b[0;32m    899\u001b[0m                     \u001b[1;32mpass\u001b[0m\u001b[1;33m\u001b[0m\u001b[1;33m\u001b[0m\u001b[0m\n\u001b[1;32m--> 900\u001b[1;33m         \u001b[1;32mreturn\u001b[0m \u001b[0mcomplexjson\u001b[0m\u001b[1;33m.\u001b[0m\u001b[0mloads\u001b[0m\u001b[1;33m(\u001b[0m\u001b[0mself\u001b[0m\u001b[1;33m.\u001b[0m\u001b[0mtext\u001b[0m\u001b[1;33m,\u001b[0m \u001b[1;33m**\u001b[0m\u001b[0mkwargs\u001b[0m\u001b[1;33m)\u001b[0m\u001b[1;33m\u001b[0m\u001b[1;33m\u001b[0m\u001b[0m\n\u001b[0m\u001b[0;32m    901\u001b[0m \u001b[1;33m\u001b[0m\u001b[0m\n\u001b[0;32m    902\u001b[0m     \u001b[1;33m@\u001b[0m\u001b[0mproperty\u001b[0m\u001b[1;33m\u001b[0m\u001b[1;33m\u001b[0m\u001b[0m\n",
      "\u001b[1;32m~\\anaconda3\\envs\\capstone\\lib\\json\\__init__.py\u001b[0m in \u001b[0;36mloads\u001b[1;34m(s, encoding, cls, object_hook, parse_float, parse_int, parse_constant, object_pairs_hook, **kw)\u001b[0m\n\u001b[0;32m    336\u001b[0m         \u001b[1;32mif\u001b[0m \u001b[0ms\u001b[0m\u001b[1;33m.\u001b[0m\u001b[0mstartswith\u001b[0m\u001b[1;33m(\u001b[0m\u001b[1;34m'\\ufeff'\u001b[0m\u001b[1;33m)\u001b[0m\u001b[1;33m:\u001b[0m\u001b[1;33m\u001b[0m\u001b[1;33m\u001b[0m\u001b[0m\n\u001b[0;32m    337\u001b[0m             raise JSONDecodeError(\"Unexpected UTF-8 BOM (decode using utf-8-sig)\",\n\u001b[1;32m--> 338\u001b[1;33m                                   s, 0)\n\u001b[0m\u001b[0;32m    339\u001b[0m     \u001b[1;32melse\u001b[0m\u001b[1;33m:\u001b[0m\u001b[1;33m\u001b[0m\u001b[1;33m\u001b[0m\u001b[0m\n\u001b[0;32m    340\u001b[0m         \u001b[1;32mif\u001b[0m \u001b[1;32mnot\u001b[0m \u001b[0misinstance\u001b[0m\u001b[1;33m(\u001b[0m\u001b[0ms\u001b[0m\u001b[1;33m,\u001b[0m \u001b[1;33m(\u001b[0m\u001b[0mbytes\u001b[0m\u001b[1;33m,\u001b[0m \u001b[0mbytearray\u001b[0m\u001b[1;33m)\u001b[0m\u001b[1;33m)\u001b[0m\u001b[1;33m:\u001b[0m\u001b[1;33m\u001b[0m\u001b[1;33m\u001b[0m\u001b[0m\n",
      "\u001b[1;31mJSONDecodeError\u001b[0m: Unexpected UTF-8 BOM (decode using utf-8-sig): line 1 column 1 (char 0)"
     ]
    }
   ],
   "source": [
    "for i, app_id in enumerate(app_ids):\n",
    "    reviews += get_reviews(app_id, params)['reviews']\n",
    "    if (i+1)%500 == 0:\n",
    "        print(f'{i+1} of {len(app_ids)}: {len(reviews)} reviews')"
   ]
  },
  {
   "cell_type": "markdown",
   "metadata": {},
   "source": [
    "When running the above code to get the reviews, I got the following error:\n",
    "\n",
    "JSONDecodeError: Unexpected UTF-8 BOM (decode using utf-8-sig): line 1 column 1 (char 0)\n",
    "\n",
    "It seems to be fixable by changing the encoding in the requests module, but seeing as this code takes about half a day to run, and I have over a million reviews anyways, this will be good enough."
   ]
  },
  {
   "cell_type": "code",
   "execution_count": 9,
   "metadata": {},
   "outputs": [
    {
     "data": {
      "text/plain": [
       "1006078"
      ]
     },
     "execution_count": 9,
     "metadata": {},
     "output_type": "execute_result"
    }
   ],
   "source": [
    "len(reviews)"
   ]
  },
  {
   "cell_type": "code",
   "execution_count": 10,
   "metadata": {},
   "outputs": [
    {
     "data": {
      "text/html": [
       "<div>\n",
       "<style scoped>\n",
       "    .dataframe tbody tr th:only-of-type {\n",
       "        vertical-align: middle;\n",
       "    }\n",
       "\n",
       "    .dataframe tbody tr th {\n",
       "        vertical-align: top;\n",
       "    }\n",
       "\n",
       "    .dataframe thead th {\n",
       "        text-align: right;\n",
       "    }\n",
       "</style>\n",
       "<table border=\"1\" class=\"dataframe\">\n",
       "  <thead>\n",
       "    <tr style=\"text-align: right;\">\n",
       "      <th></th>\n",
       "      <th>index</th>\n",
       "      <th>review</th>\n",
       "      <th>voted_up</th>\n",
       "    </tr>\n",
       "  </thead>\n",
       "  <tbody>\n",
       "    <tr>\n",
       "      <th>0</th>\n",
       "      <td>0</td>\n",
       "      <td>Overpriced palette swapped skin.</td>\n",
       "      <td>False</td>\n",
       "    </tr>\n",
       "    <tr>\n",
       "      <th>1</th>\n",
       "      <td>1</td>\n",
       "      <td>Best used with the \"Talabheim Cavalier\" Hat fo...</td>\n",
       "      <td>True</td>\n",
       "    </tr>\n",
       "    <tr>\n",
       "      <th>2</th>\n",
       "      <td>2</td>\n",
       "      <td>Carroburg greatswords...thats all you need to ...</td>\n",
       "      <td>True</td>\n",
       "    </tr>\n",
       "    <tr>\n",
       "      <th>3</th>\n",
       "      <td>3</td>\n",
       "      <td>I usually turn my nose up at cosmetic DLC's, b...</td>\n",
       "      <td>True</td>\n",
       "    </tr>\n",
       "    <tr>\n",
       "      <th>4</th>\n",
       "      <td>4</td>\n",
       "      <td>Love this game. Bought 'em all :)</td>\n",
       "      <td>True</td>\n",
       "    </tr>\n",
       "    <tr>\n",
       "      <th>...</th>\n",
       "      <td>...</td>\n",
       "      <td>...</td>\n",
       "      <td>...</td>\n",
       "    </tr>\n",
       "    <tr>\n",
       "      <th>1006073</th>\n",
       "      <td>1006073</td>\n",
       "      <td>I like it - let's you take on several train ty...</td>\n",
       "      <td>True</td>\n",
       "    </tr>\n",
       "    <tr>\n",
       "      <th>1006074</th>\n",
       "      <td>1006074</td>\n",
       "      <td>I love this route the only reason i got it for...</td>\n",
       "      <td>True</td>\n",
       "    </tr>\n",
       "    <tr>\n",
       "      <th>1006075</th>\n",
       "      <td>1006075</td>\n",
       "      <td>This is a very fun add-on to play, you can pla...</td>\n",
       "      <td>True</td>\n",
       "    </tr>\n",
       "    <tr>\n",
       "      <th>1006076</th>\n",
       "      <td>1006076</td>\n",
       "      <td>GWE is a great DLC, one of my favourites for T...</td>\n",
       "      <td>True</td>\n",
       "    </tr>\n",
       "    <tr>\n",
       "      <th>1006077</th>\n",
       "      <td>1006077</td>\n",
       "      <td>love it\\n(obtained with Train Sim World 2020)</td>\n",
       "      <td>True</td>\n",
       "    </tr>\n",
       "  </tbody>\n",
       "</table>\n",
       "<p>1006078 rows × 3 columns</p>\n",
       "</div>"
      ],
      "text/plain": [
       "           index                                             review  voted_up\n",
       "0              0                   Overpriced palette swapped skin.     False\n",
       "1              1  Best used with the \"Talabheim Cavalier\" Hat fo...      True\n",
       "2              2  Carroburg greatswords...thats all you need to ...      True\n",
       "3              3  I usually turn my nose up at cosmetic DLC's, b...      True\n",
       "4              4                  Love this game. Bought 'em all :)      True\n",
       "...          ...                                                ...       ...\n",
       "1006073  1006073  I like it - let's you take on several train ty...      True\n",
       "1006074  1006074  I love this route the only reason i got it for...      True\n",
       "1006075  1006075  This is a very fun add-on to play, you can pla...      True\n",
       "1006076  1006076  GWE is a great DLC, one of my favourites for T...      True\n",
       "1006077  1006077      love it\\n(obtained with Train Sim World 2020)      True\n",
       "\n",
       "[1006078 rows x 3 columns]"
      ]
     },
     "execution_count": 10,
     "metadata": {},
     "output_type": "execute_result"
    }
   ],
   "source": [
    "reviews_df = pd.DataFrame(reviews)[['review', 'voted_up']]\n",
    "reviews_df.dropna(inplace=True)\n",
    "reviews_df.reset_index(inplace=True)\n",
    "reviews_df"
   ]
  },
  {
   "cell_type": "code",
   "execution_count": 11,
   "metadata": {},
   "outputs": [
    {
     "data": {
      "text/plain": [
       "True     0.731222\n",
       "False    0.268778\n",
       "Name: voted_up, dtype: float64"
      ]
     },
     "execution_count": 11,
     "metadata": {},
     "output_type": "execute_result"
    }
   ],
   "source": [
    "reviews_df.voted_up.value_counts(normalize=True)"
   ]
  },
  {
   "cell_type": "code",
   "execution_count": 12,
   "metadata": {},
   "outputs": [],
   "source": [
    "reviews_df.to_pickle('../data/reviews_raw.pkl.gz')"
   ]
  },
  {
   "cell_type": "markdown",
   "metadata": {},
   "source": [
    "The initial dataset for this project used games taken from the \"hot\" section of Steam, and had a 80-20 class imbalance. This data, taken from all Steam apps, has a 75-25 class imbalance. Popular games are more likely to have more reviews, and also have more DLC, which counts as its own app for review purposes. This imbalance might be improved by only counting games, and by taking less reviews per game. However, that would end up with significantly less data overall, so I have decided not to go there for now.\n",
    "\n",
    "As well, a future improvement could be to get data from other sources in addition to Steam. Metacritic seems like a good choice, as its reviews come with scores. There are also storefronts, such as itch.io or GOG that cater to different types of games than Steam or Metacritic, and so might help the model's ability to generalize.\n",
    "\n",
    "However, at present, adding more data would just prevent my computer from running these models at all. If I want to increase the dataset size, I first need to get these notebooks running on a better computer, or on something like Amazon Sagemaker."
   ]
  },
  {
   "cell_type": "markdown",
   "metadata": {},
   "source": [
    "## Splitting and Pickling"
   ]
  },
  {
   "cell_type": "markdown",
   "metadata": {},
   "source": [
    "The raw reviews data is too large for my computer to handle, so here I split it into 10 parts and save them seperately. I also randomize the dataframe before splitting."
   ]
  },
  {
   "cell_type": "code",
   "execution_count": 2,
   "metadata": {},
   "outputs": [],
   "source": [
    "import numpy as np"
   ]
  },
  {
   "cell_type": "code",
   "execution_count": 3,
   "metadata": {},
   "outputs": [],
   "source": [
    "reviews_df = pd.read_pickle('../data/reviews_raw.pkl.gz')\n",
    "reviews_df = reviews_df.sample(frac=1).reset_index(drop=True)"
   ]
  },
  {
   "cell_type": "code",
   "execution_count": 4,
   "metadata": {},
   "outputs": [],
   "source": [
    "for i, df in enumerate(np.array_split(reviews_df, 10)):\n",
    "    df.to_pickle(f'../data/reviews_raw_{str(i)}.pkl.gz')"
   ]
  },
  {
   "cell_type": "markdown",
   "metadata": {},
   "source": [
    "The below functions are ones I had used in old versions of gathering the data. They are no longer used."
   ]
  },
  {
   "cell_type": "code",
   "execution_count": null,
   "metadata": {},
   "outputs": [],
   "source": [
    "def get_n_reviews(appid, n=100):\n",
    "    reviews = []\n",
    "    cursor = '*'\n",
    "    params = { # https://partner.steamgames.com/doc/store/getreviews\n",
    "            'json' : 1,\n",
    "            'filter' : 'all', # sort by: recent, updated, all (helpfullness)\n",
    "            'language' : 'english', # https://partner.steamgames.com/doc/store/localization\n",
    "            'day_range' : 9223372036854775807, # shows reveiws from all time\n",
    "            'review_type' : 'all', # all, positive, negative\n",
    "            'purchase_type' : 'all', # all, non_steam_purchase, steam\n",
    "        }\n",
    "    while n > 0:\n",
    "        params['cursor'] = cursor.encode() # for pagination\n",
    "        params['num_per_page'] = min(100, n) # 100 is the max possible reviews in one requests\n",
    "        n -= 100\n",
    "        \n",
    "        try:\n",
    "            response = get_reviews(appid, params)\n",
    "        except:\n",
    "                return []\n",
    "        \n",
    "        cursor = response['cursor']\n",
    "        reviews += response['reviews']\n",
    "        \n",
    "        if len(response['reviews']) < 100: break\n",
    "    \n",
    "    return reviews"
   ]
  },
  {
   "cell_type": "code",
   "execution_count": null,
   "metadata": {},
   "outputs": [],
   "source": [
    "from bs4 import BeautifulSoup\n",
    "\n",
    "def get_n_appids(n=100, filter_by='topsellers'):\n",
    "    appids = []\n",
    "    url = f'https://store.steampowered.com/search/?category1=998&filter={filter_by}&page='\n",
    "    page = 0\n",
    "    \n",
    "    while page*25 < n:\n",
    "        page += 1\n",
    "        response = requests.get(url=url+str(page), headers={'User-Agent': 'Mozilla/5.0'})\n",
    "        soup = BeautifulSoup(response.text, 'html.parser')\n",
    "        for row in soup.find_all(class_='search_result_row'):\n",
    "            appids.append(row['data-ds-appid'])\n",
    "    \n",
    "    return appids[:n]"
   ]
  }
 ],
 "metadata": {
  "kernelspec": {
   "display_name": "capstone",
   "language": "python",
   "name": "capstone"
  },
  "language_info": {
   "codemirror_mode": {
    "name": "ipython",
    "version": 3
   },
   "file_extension": ".py",
   "mimetype": "text/x-python",
   "name": "python",
   "nbconvert_exporter": "python",
   "pygments_lexer": "ipython3",
   "version": "3.7.9"
  }
 },
 "nbformat": 4,
 "nbformat_minor": 4
}
