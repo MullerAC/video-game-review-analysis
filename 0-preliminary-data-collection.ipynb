{
 "cells": [
  {
   "cell_type": "code",
   "execution_count": 1,
   "metadata": {},
   "outputs": [],
   "source": [
    "import pandas as pd\n",
    "import requests"
   ]
  },
  {
   "cell_type": "code",
   "execution_count": 2,
   "metadata": {},
   "outputs": [],
   "source": [
    "def get_reviews(appid, params):\n",
    "        url_start = 'https://store.steampowered.com/appreviews/'\n",
    "        response = requests.get(url=url_start+appid, params=params)\n",
    "        return response.json() # return data extracted from the json response"
   ]
  },
  {
   "cell_type": "code",
   "execution_count": 4,
   "metadata": {},
   "outputs": [],
   "source": [
    "appid = '1091500' # Cyberpunk 2077, good mix of positive and negative, just for samples\n",
    "cursor = '*'\n",
    "params = { # https://partner.steamgames.com/doc/store/getreviews\n",
    "        'json' : 1,\n",
    "        'filter' : 'all', # sort by: recent, updated, all (helpfullness)\n",
    "        'language' : 'english', # https://partner.steamgames.com/doc/store/localization\n",
    "        'day_range' : 9223372036854775807, # shows reveiws from all time\n",
    "        'cursor' : cursor.encode(), # for pagination\n",
    "        'review_type' : 'all', # all, positive, negative\n",
    "        'purchase_type' : 'all', # all, non_steam_purchase, steam\n",
    "        'num_per_page' : 100 # max amount per request\n",
    "    }"
   ]
  },
  {
   "cell_type": "code",
   "execution_count": 19,
   "metadata": {},
   "outputs": [],
   "source": [
    "printProgress=True\n",
    "n=2000"
   ]
  },
  {
   "cell_type": "code",
   "execution_count": 20,
   "metadata": {},
   "outputs": [],
   "source": [
    "results = []\n",
    "for i in range(n//100):\n",
    "    result = get_reviews(appid, params)\n",
    "    results += result['reviews']\n",
    "    params['cursor'] = result['cursor']"
   ]
  },
  {
   "cell_type": "code",
   "execution_count": 24,
   "metadata": {},
   "outputs": [
    {
     "data": {
      "text/html": [
       "<div>\n",
       "<style scoped>\n",
       "    .dataframe tbody tr th:only-of-type {\n",
       "        vertical-align: middle;\n",
       "    }\n",
       "\n",
       "    .dataframe tbody tr th {\n",
       "        vertical-align: top;\n",
       "    }\n",
       "\n",
       "    .dataframe thead th {\n",
       "        text-align: right;\n",
       "    }\n",
       "</style>\n",
       "<table border=\"1\" class=\"dataframe\">\n",
       "  <thead>\n",
       "    <tr style=\"text-align: right;\">\n",
       "      <th></th>\n",
       "      <th>review</th>\n",
       "      <th>voted_up</th>\n",
       "    </tr>\n",
       "  </thead>\n",
       "  <tbody>\n",
       "    <tr>\n",
       "      <th>0</th>\n",
       "      <td>While it does feel like they needed a bit more...</td>\n",
       "      <td>True</td>\n",
       "    </tr>\n",
       "    <tr>\n",
       "      <th>1</th>\n",
       "      <td>Game is asbolutely good. The Night City is som...</td>\n",
       "      <td>True</td>\n",
       "    </tr>\n",
       "    <tr>\n",
       "      <th>2</th>\n",
       "      <td>This game has a JoJo reference.</td>\n",
       "      <td>True</td>\n",
       "    </tr>\n",
       "    <tr>\n",
       "      <th>3</th>\n",
       "      <td>Cheers everyone, after 8 years we finally made...</td>\n",
       "      <td>True</td>\n",
       "    </tr>\n",
       "    <tr>\n",
       "      <th>4</th>\n",
       "      <td>made my penis to perfection in a call with fri...</td>\n",
       "      <td>True</td>\n",
       "    </tr>\n",
       "    <tr>\n",
       "      <th>...</th>\n",
       "      <td>...</td>\n",
       "      <td>...</td>\n",
       "    </tr>\n",
       "    <tr>\n",
       "      <th>1995</th>\n",
       "      <td>The game doesn't bring anything new to the tab...</td>\n",
       "      <td>False</td>\n",
       "    </tr>\n",
       "    <tr>\n",
       "      <th>1996</th>\n",
       "      <td>pp go smol ( ͡° ͜ʖ ͡°)\\n\\npp go big (˵ ͡☉ ͜ʖ ͡...</td>\n",
       "      <td>True</td>\n",
       "    </tr>\n",
       "    <tr>\n",
       "      <th>1997</th>\n",
       "      <td>Great characters, nice city, thrilling storyli...</td>\n",
       "      <td>True</td>\n",
       "    </tr>\n",
       "    <tr>\n",
       "      <th>1998</th>\n",
       "      <td>So here is my review after all of this time.\\n...</td>\n",
       "      <td>True</td>\n",
       "    </tr>\n",
       "    <tr>\n",
       "      <th>1999</th>\n",
       "      <td>Here's the headline: If you enjoy Far Cry, Tom...</td>\n",
       "      <td>True</td>\n",
       "    </tr>\n",
       "  </tbody>\n",
       "</table>\n",
       "<p>2000 rows × 2 columns</p>\n",
       "</div>"
      ],
      "text/plain": [
       "                                                 review  voted_up\n",
       "0     While it does feel like they needed a bit more...      True\n",
       "1     Game is asbolutely good. The Night City is som...      True\n",
       "2                       This game has a JoJo reference.      True\n",
       "3     Cheers everyone, after 8 years we finally made...      True\n",
       "4     made my penis to perfection in a call with fri...      True\n",
       "...                                                 ...       ...\n",
       "1995  The game doesn't bring anything new to the tab...     False\n",
       "1996  pp go smol ( ͡° ͜ʖ ͡°)\\n\\npp go big (˵ ͡☉ ͜ʖ ͡...      True\n",
       "1997  Great characters, nice city, thrilling storyli...      True\n",
       "1998  So here is my review after all of this time.\\n...      True\n",
       "1999  Here's the headline: If you enjoy Far Cry, Tom...      True\n",
       "\n",
       "[2000 rows x 2 columns]"
      ]
     },
     "execution_count": 24,
     "metadata": {},
     "output_type": "execute_result"
    }
   ],
   "source": [
    "reviews_df = pd.DataFrame(results)[['review', 'voted_up']]\n",
    "reviews_df"
   ]
  },
  {
   "cell_type": "code",
   "execution_count": 25,
   "metadata": {},
   "outputs": [
    {
     "data": {
      "text/plain": [
       "True     1207\n",
       "False     793\n",
       "Name: voted_up, dtype: int64"
      ]
     },
     "execution_count": 25,
     "metadata": {},
     "output_type": "execute_result"
    }
   ],
   "source": [
    "reviews_df['voted_up'].value_counts()"
   ]
  },
  {
   "cell_type": "code",
   "execution_count": 28,
   "metadata": {},
   "outputs": [],
   "source": [
    "reviews_df.to_csv('data/test_reviews.csv', index=False)"
   ]
  },
  {
   "cell_type": "code",
   "execution_count": null,
   "metadata": {},
   "outputs": [],
   "source": []
  },
  {
   "cell_type": "code",
   "execution_count": 9,
   "metadata": {},
   "outputs": [
    {
     "ename": "NameError",
     "evalue": "name '_makeRequest' is not defined",
     "output_type": "error",
     "traceback": [
      "\u001b[1;31m---------------------------------------------------------------------------\u001b[0m",
      "\u001b[1;31mNameError\u001b[0m                                 Traceback (most recent call last)",
      "\u001b[1;32m<ipython-input-9-86e26715347d>\u001b[0m in \u001b[0;36m<module>\u001b[1;34m\u001b[0m\n\u001b[1;32m----> 1\u001b[1;33m \u001b[0mget_all_reviews\u001b[0m\u001b[1;33m(\u001b[0m\u001b[0mappid\u001b[0m\u001b[1;33m,\u001b[0m \u001b[0mparams\u001b[0m\u001b[1;33m,\u001b[0m \u001b[0mprintProgress\u001b[0m\u001b[1;33m=\u001b[0m\u001b[1;32mTrue\u001b[0m\u001b[1;33m)\u001b[0m\u001b[1;33m\u001b[0m\u001b[1;33m\u001b[0m\u001b[0m\n\u001b[0m",
      "\u001b[1;32m<ipython-input-8-ebbcdb5208f8>\u001b[0m in \u001b[0;36mget_all_reviews\u001b[1;34m(appid, params, printProgress, n)\u001b[0m\n\u001b[0;32m      2\u001b[0m     \u001b[0mresults\u001b[0m \u001b[1;33m=\u001b[0m \u001b[0mpd\u001b[0m\u001b[1;33m.\u001b[0m\u001b[0mDataFrame\u001b[0m\u001b[1;33m(\u001b[0m\u001b[1;33m)\u001b[0m\u001b[1;33m\u001b[0m\u001b[1;33m\u001b[0m\u001b[0m\n\u001b[0;32m      3\u001b[0m \u001b[1;33m\u001b[0m\u001b[0m\n\u001b[1;32m----> 4\u001b[1;33m     \u001b[0mdata\u001b[0m \u001b[1;33m=\u001b[0m \u001b[0m_makeRequest\u001b[0m\u001b[1;33m(\u001b[0m\u001b[0mappid\u001b[0m\u001b[1;33m,\u001b[0m \u001b[0mparams\u001b[0m\u001b[1;33m)\u001b[0m\u001b[1;33m\u001b[0m\u001b[1;33m\u001b[0m\u001b[0m\n\u001b[0m\u001b[0;32m      5\u001b[0m     \u001b[0mdone\u001b[0m \u001b[1;33m=\u001b[0m \u001b[1;32mFalse\u001b[0m\u001b[1;33m\u001b[0m\u001b[1;33m\u001b[0m\u001b[0m\n\u001b[0;32m      6\u001b[0m \u001b[1;33m\u001b[0m\u001b[0m\n",
      "\u001b[1;31mNameError\u001b[0m: name '_makeRequest' is not defined"
     ]
    }
   ],
   "source": [
    "get_all_reviews(appid, params, printProgress=True)"
   ]
  },
  {
   "cell_type": "code",
   "execution_count": 8,
   "metadata": {},
   "outputs": [],
   "source": [
    "def get_all_reviews(appid, params, printProgress=False, n=0):\n",
    "    results = pd.DataFrame()\n",
    "\n",
    "    data = _makeRequest(appid, params)\n",
    "    done = False\n",
    "\n",
    "    while not done:\n",
    "        if 'success' in data and data['success'] == 1: # if the query was successful\n",
    "            if 'reviews' in data and len(data['reviews']) > 0: # if we received reviews\n",
    "                results += data['reviews'] # add the reviews in this query to our results\n",
    "                params['start_offset'] += data['query_summary']['num_reviews'] # increase the start offset by the number of reviews received in this response\n",
    "                if printProgress:\n",
    "                    print('{amount} reviews found...'.format(amount=params['start_offset']))\n",
    "                data = _makeRequest(appid, params) # get the next page of reviews\n",
    "            else: # there are no more reviews\n",
    "                done = True\n",
    "        elif data is None: # Steam Web API returns null if rate limit is reached.\n",
    "            done = True\n",
    "            raise ConnectionRefusedError('Steam Web API returned null. Rate limit may be exceeded.')\n",
    "        else: # unsuccessful API call raises an error\n",
    "            done = True\n",
    "            raise ConnectionError('Steam Web API appreviews request was unsuccessful.')\n",
    "    \n",
    "    if printProgress:\n",
    "        print(\"Found all reviews.\")\n",
    "    return results"
   ]
  },
  {
   "cell_type": "code",
   "execution_count": null,
   "metadata": {},
   "outputs": [],
   "source": []
  }
 ],
 "metadata": {
  "kernelspec": {
   "display_name": "learn-env",
   "language": "python",
   "name": "learn-env"
  },
  "language_info": {
   "codemirror_mode": {
    "name": "ipython",
    "version": 3
   },
   "file_extension": ".py",
   "mimetype": "text/x-python",
   "name": "python",
   "nbconvert_exporter": "python",
   "pygments_lexer": "ipython3",
   "version": "3.6.9"
  }
 },
 "nbformat": 4,
 "nbformat_minor": 4
}
