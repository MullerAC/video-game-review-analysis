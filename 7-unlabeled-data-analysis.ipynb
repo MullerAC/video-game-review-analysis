{
 "cells": [
  {
   "cell_type": "markdown",
   "metadata": {},
   "source": [
    "# Unlabeled Data Analysis"
   ]
  },
  {
   "cell_type": "markdown",
   "metadata": {},
   "source": [
    "create twitter hashtag reader and reddit thread reader"
   ]
  },
  {
   "cell_type": "markdown",
   "metadata": {},
   "source": [
    "pick sample hashtags and threads"
   ]
  },
  {
   "cell_type": "code",
   "execution_count": 1,
   "metadata": {},
   "outputs": [
    {
     "name": "stderr",
     "output_type": "stream",
     "text": [
      "[nltk_data] Downloading package punkt to\n",
      "[nltk_data]     C:\\Users\\Andrew\\AppData\\Roaming\\nltk_data...\n",
      "[nltk_data]   Package punkt is already up-to-date!\n",
      "[nltk_data] Downloading package wordnet to\n",
      "[nltk_data]     C:\\Users\\Andrew\\AppData\\Roaming\\nltk_data...\n",
      "[nltk_data]   Package wordnet is already up-to-date!\n",
      "[nltk_data] Downloading package stopwords to\n",
      "[nltk_data]     C:\\Users\\Andrew\\AppData\\Roaming\\nltk_data...\n",
      "[nltk_data]   Package stopwords is already up-to-date!\n"
     ]
    }
   ],
   "source": [
    "import nest_asyncio\n",
    "nest_asyncio.apply()\n",
    "import predictions"
   ]
  },
  {
   "cell_type": "code",
   "execution_count": 11,
   "metadata": {},
   "outputs": [],
   "source": [
    "pos_percentage, neg_percentage, pos_samples, neg_samples = predictions.get_web_output('#pokemonpresents')"
   ]
  },
  {
   "cell_type": "code",
   "execution_count": 12,
   "metadata": {},
   "outputs": [
    {
     "data": {
      "text/plain": [
       "(96, 4)"
      ]
     },
     "execution_count": 12,
     "metadata": {},
     "output_type": "execute_result"
    }
   ],
   "source": [
    "pos_percentage, neg_percentage"
   ]
  },
  {
   "cell_type": "code",
   "execution_count": 13,
   "metadata": {},
   "outputs": [
    {
     "data": {
      "text/plain": [
       "['The #SPAWNCAST is LIVE discussing: #PokemonPresents, #PlayStation State of Play, #PokemonLegendsArceus | ft. @RGT_85 @ModernVintageG @NateTheHate2 @SpawnWaveMedia @PlayerEssence @_MissClick_ @KimerexProjekt @JordanFringe94 @AustinJohnPlays @DirectFeedGames  https://t.co/JEOIJYY9CP',\n",
       " 'My first set of Luxery Gamer Press-Ons 😍 Jiggly Puff inspired by the #PokemonPresents today 💖💖 🎶  https://t.co/0CAu1Fp78N',\n",
       " \"#PokemonPresents LES REMAKES LET'S GOOOOOO  https://t.co/RMOswSTOGh\",\n",
       " \"As #PokemonPresents is trending,  I'm throwing out the ACEO Card trio of my favorite Pokemon!  https://t.co/FBlVslrIkP\",\n",
       " 'I knew I would be sick by this day, so I prepared this drawing months ago Happy #PokemonDay! . . . . Support me:  https://t.co/7hw3GaOyEV #furry #PokemonPresents #cute #ArtistOnTwitter #art  https://t.co/393yY5b1F8']"
      ]
     },
     "execution_count": 13,
     "metadata": {},
     "output_type": "execute_result"
    }
   ],
   "source": [
    "pos_samples"
   ]
  },
  {
   "cell_type": "code",
   "execution_count": 14,
   "metadata": {},
   "outputs": [
    {
     "data": {
      "text/plain": [
       "[\"having the games in a chibi style is not that much of a problem but for my liking they should've gone for a 3-heads-tall style (like Let's GO) instead of 2-heads-tall  #PokemonPresents #Pokemon25 #PokemonDiamondPearl  https://t.co/536YnxpRZh\",\n",
       " \"I'm pretty confident I can make Arceus (ar-kay-us now apparently??) look like an absolute terror  #PokemonPresents #PokemonDirect #PokemonDay  https://t.co/ek6AInNzQY\",\n",
       " 'The Pokémon Company dropping two Sinnoh games today  #PokemonPresents    https://t.co/T7wwuFxWNn',\n",
       " \"Missed #PokemonPresents #Pokemon25 presentation earlier? We've got you covered from trailers, new game announcements and more.  https://t.co/dtkJ7dOE1W\",\n",
       " \"I wonder what's going to be announced in the #PokemonPresents video they made for #PokemonDay I like #Pokemon and #PokemonGo and #SonicTheHedgehog and stuffs  https://t.co/fSfGZADYek\"]"
      ]
     },
     "execution_count": 14,
     "metadata": {},
     "output_type": "execute_result"
    }
   ],
   "source": [
    "neg_samples"
   ]
  },
  {
   "cell_type": "markdown",
   "metadata": {},
   "source": [
    "sample reddit thread ideas:\n",
    "- https://www.reddit.com/r/nintendo/comments/lm6obv/project_triangle_strategy_announcement_trailer/\n",
    "- https://www.reddit.com/r/nintendo/comments/lru33p/the_animal_crossing_new_horizons_free_update_is/\n",
    "- https://www.reddit.com/r/nintendo/comments/lqlrqg/tony_hawks_pro_skater_1_2_coming_to_nintendo/\n",
    "- https://www.reddit.com/r/Games/comments/ls6qlh/bravery_default_ii_review_thread/\n",
    "\n",
    "sample hashtags:\n",
    "- #stateofplay\n",
    "- #pokemonpresents"
   ]
  },
  {
   "cell_type": "markdown",
   "metadata": {},
   "source": [
    "run data through processing and model"
   ]
  },
  {
   "cell_type": "markdown",
   "metadata": {},
   "source": [
    "output class percentages and numbers"
   ]
  },
  {
   "cell_type": "markdown",
   "metadata": {},
   "source": [
    "output unlabeled topic analysis"
   ]
  },
  {
   "cell_type": "markdown",
   "metadata": {},
   "source": [
    "CREATE FRONTEND!!!"
   ]
  }
 ],
 "metadata": {
  "kernelspec": {
   "display_name": "capstone",
   "language": "python",
   "name": "capstone"
  },
  "language_info": {
   "codemirror_mode": {
    "name": "ipython",
    "version": 3
   },
   "file_extension": ".py",
   "mimetype": "text/x-python",
   "name": "python",
   "nbconvert_exporter": "python",
   "pygments_lexer": "ipython3",
   "version": "3.7.9"
  }
 },
 "nbformat": 4,
 "nbformat_minor": 4
}
